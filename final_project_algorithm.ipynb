{
  "nbformat": 4,
  "nbformat_minor": 0,
  "metadata": {
    "colab": {
      "name": "NN WITH R MATRIX ONLY-FINAL.ipynb",
      "provenance": [],
      "machine_shape": "hm"
    },
    "kernelspec": {
      "name": "python3",
      "display_name": "Python 3"
    },
    "language_info": {
      "name": "python"
    },
    "accelerator": "GPU"
  },
  "cells": [
    {
      "cell_type": "markdown",
      "source": [
        "# Imports"
      ],
      "metadata": {
        "id": "HPp6sxtG0doH"
      }
    },
    {
      "cell_type": "code",
      "execution_count": null,
      "metadata": {
        "id": "SwT9VIsKyjEJ"
      },
      "outputs": [],
      "source": [
        "from scipy.io import loadmat\n",
        "import numpy as np\n",
        "import matplotlib.pyplot as plt\n",
        "from numpy.fft import fft, ifft\n",
        "from scipy.stats import pearsonr\n",
        "from scipy import signal as sig\n",
        "from scipy.signal import ellip,lfilter,filtfilt,find_peaks,firwin,kaiserord, decimate, periodogram\n",
        "from copy import deepcopy\n",
        "from scipy import stats\n",
        "import scipy\n",
        "import warnings\n",
        "warnings.filterwarnings('ignore')\n",
        "from scipy.fft import rfft, rfftfreq\n",
        "from scipy import signal\n",
        "from scipy.integrate import simps\n",
        "from sklearn. decomposition import PCA\n",
        "from scipy.interpolate import CubicSpline, splrep, splev\n",
        "from sklearn.linear_model import LinearRegression\n",
        "from scipy.io import savemat\n",
        "from sklearn.model_selection import RepeatedKFold\n",
        "from sklearn.preprocessing import scale \n",
        "from sklearn.linear_model import Ridge\n",
        "from sklearn.preprocessing import StandardScaler #standard scaler worked best\n",
        "from tensorflow.keras.models import Sequential\n",
        "from tensorflow.keras.callbacks import EarlyStopping\n",
        "from keras.layers.core import Dense\n",
        "from tensorflow.keras.layers import ReLU, LeakyReLU, BatchNormalization, Flatten, Conv2D, MaxPooling2D, Conv1D\n",
        "import joblib\n",
        "from google.colab import files"
      ]
    },
    {
      "cell_type": "markdown",
      "source": [
        "# Loading data"
      ],
      "metadata": {
        "id": "vfzkDIzO0iHZ"
      }
    },
    {
      "cell_type": "code",
      "source": [
        "fs = 1000 #Hz\n",
        "\n",
        "train_data = loadmat('/content/raw_training_data.mat')\n",
        "train_dg = train_data['train_dg']\n",
        "train_ecog = train_data['train_ecog']\n",
        "\n",
        "test_data = loadmat('leaderboard_data.mat')['leaderboard_ecog']"
      ],
      "metadata": {
        "id": "-JgJmdmqzWWT"
      },
      "execution_count": null,
      "outputs": []
    },
    {
      "cell_type": "markdown",
      "source": [
        "# Removing bad channels"
      ],
      "metadata": {
        "id": "0_DsArvv0k2K"
      }
    },
    {
      "cell_type": "code",
      "source": [
        "#subject 1\n",
        "#bad channels are : 54\n",
        "train_ecog[0][0] = np.delete(train_ecog[0][0], 54, 1)\n",
        "test_data[0][0] = np.delete(test_data[0][0], 54, 1)\n",
        "\n",
        "#subject 2\n",
        "#bad channels are : 20 and 37\n",
        "train_ecog[1][0] = np.delete(train_ecog[1][0], [20,37], 1)\n",
        "test_data[1][0] = np.delete(test_data[1][0], [20,37], 1)\n",
        "\n",
        "#subject 3\n",
        "# bad channels are : None"
      ],
      "metadata": {
        "id": "2aB5BhqizYmw"
      },
      "execution_count": null,
      "outputs": []
    },
    {
      "cell_type": "markdown",
      "source": [
        "# Train test split"
      ],
      "metadata": {
        "id": "JDwReY3T0nzt"
      }
    },
    {
      "cell_type": "code",
      "source": [
        "#TRAIN SET\n",
        "#train labels\n",
        "train_dg1 = train_dg[0][0]\n",
        "train_dg2 = train_dg[1][0]\n",
        "train_dg3 = train_dg[2][0]\n",
        "\n",
        "#train data\n",
        "train_ecog1 = train_ecog[0][0]\n",
        "train_ecog2 = train_ecog[1][0]\n",
        "train_ecog3 = train_ecog[2][0]\n",
        "\n",
        "#TEST SET\n",
        "#test data\n",
        "test_ecog1 = test_data[0][0]\n",
        "test_ecog2 = test_data[1][0]\n",
        "test_ecog3 = test_data[2][0]"
      ],
      "metadata": {
        "id": "AOaK4AKgzbx6"
      },
      "execution_count": null,
      "outputs": []
    },
    {
      "cell_type": "markdown",
      "source": [
        "# Preprocessing (filter, feature calc, windowing and R matrix function calc)"
      ],
      "metadata": {
        "id": "oycbSBxf0p6q"
      }
    },
    {
      "cell_type": "code",
      "source": [
        "def filter_data_2(raw_eeg, fs=1000):\n",
        "  nyq=fs/2\n",
        "  ripple_db=60.0 #ripple size for cutoff\n",
        "  width=5.0/nyq #transition wid\n",
        "  N, beta = kaiserord(ripple_db, width) #kaiser parameters\n",
        "  taps_default=firwin(N,[4, 200],window=('kaiser',beta),pass_zero='bandpass',fs=1000)\n",
        "  filtered_2=filtfilt(taps_default,1.0,raw_eeg)\n",
        "  return filtered_2\n",
        "\n",
        "def filternotch(x,fs=1000):\n",
        "  b1, a1 = sig.iirnotch(60, 20, fs)\n",
        "  b2, a2 = sig.iirnotch(120, 20, fs)\n",
        "  b3, a3 = sig.iirnotch(180, 20, fs)\n",
        "  output1=sig.filtfilt(b1,a1,x)\n",
        "  output2=sig.filtfilt(b2,a2,output1)\n",
        "  output3=sig.filtfilt(b3,a3,output2)\n",
        "  return output3"
      ],
      "metadata": {
        "id": "tO__cksQzhao"
      },
      "execution_count": null,
      "outputs": []
    },
    {
      "cell_type": "code",
      "source": [
        "def NumWins(x,fs,winLen,winDisp):\n",
        "  M =np.floor(((len(x)/fs) - winLen + winDisp)/ winDisp)\n",
        "  return int(M)\n",
        "\n",
        "def NumWins_no_overlap(x,winLen):\n",
        "  M =np.divide((len(x)/fs), winLen)\n",
        "  return int(M)\n",
        "\n",
        "#feature 1\n",
        "def Avg_voltage(x):\n",
        "  avg_vol = np.mean(x)\n",
        "  return avg_vol\n",
        "\n",
        "#feature 2\n",
        "def LL(x):\n",
        "  ll_x = np.sum(np.absolute(np.ediff1d(x)))\n",
        "  return ll_x\n",
        "\n",
        "#feature 3\n",
        "def Energy(x):\n",
        "  E_x = np.sum(np.square(x))\n",
        "  return E_x\n",
        "\n",
        "#feature 4 ,5, 6, 7, 8\n",
        "def Avg_Freq(x, fi, ff):\n",
        "  #Convert to frequency domain:\n",
        "  freq_sig = rfft(x)\n",
        "  N = len(x)\n",
        "  tdomain=rfftfreq(N,1/fs)  \n",
        "  indices = np.where((tdomain>=fi) & (tdomain<=ff))[0]\n",
        "  return np.mean(np.abs(freq_sig[indices]))"
      ],
      "metadata": {
        "id": "v_LJejrUznQT"
      },
      "execution_count": null,
      "outputs": []
    },
    {
      "cell_type": "code",
      "source": [
        "def get_features(filtered_window, fs=1000):\n",
        "\n",
        "  channels = np.shape(filtered_window)[1]\n",
        "  features = np.empty([channels, 8])\n",
        "  for ch in range(channels):\n",
        "    feat1 = Avg_voltage(filtered_window[:,ch])\n",
        "    feat2 = LL(filtered_window[:,ch])\n",
        "    feat3 = Energy(filtered_window[:,ch])\n",
        "    feat4 = Avg_Freq(filtered_window[:,ch], 5, 15)\n",
        "    feat5 = Avg_Freq(filtered_window[:,ch], 20, 25)\n",
        "    feat6 = Avg_Freq(filtered_window[:,ch], 75, 115)\n",
        "    feat7 = Avg_Freq(filtered_window[:,ch], 125, 160)\n",
        "    feat8 = Avg_Freq(filtered_window[:,ch], 160, 175)\n",
        "\n",
        "    features[ch,:] = [feat1, feat2, feat3, feat4, feat5, feat6, feat7, feat8]\n",
        "   \n",
        "  features = np.reshape(features,(channels*8))\n",
        "\n",
        "  return features"
      ],
      "metadata": {
        "id": "2-5thNsWzos0"
      },
      "execution_count": null,
      "outputs": []
    },
    {
      "cell_type": "code",
      "source": [
        "def get_windowed_feats(raw_ecog, fs, window_length, window_overlap):\n",
        "\n",
        "  filtered_eeg = np.empty(np.shape(raw_ecog))\n",
        "  \n",
        "  for ch in range(np.shape(raw_ecog)[1]):\n",
        "    filtered_eeg[:,ch] = filternotch(filter_data_2(raw_ecog[:,ch]))  \n",
        "\n",
        "  M = NumWins(filtered_eeg, fs, window_length, window_overlap)\n",
        "  xLen = len(filtered_eeg)\n",
        "  \n",
        "  L = window_length\n",
        "  d = window_overlap\n",
        "\n",
        "  feature_vector = []\n",
        "  for i in range(int(M)):\n",
        "    feature_values = get_features(filtered_eeg[int(xLen - ((L+i*d)*fs)) : int(xLen-(i*d*fs)), :])\n",
        "    feature_vector.append(feature_values)\n",
        "  feature_vector = np.array(feature_vector)\n",
        "  feature_vector=feature_vector[::-1,:]\n",
        "\n",
        "  return feature_vector"
      ],
      "metadata": {
        "id": "Kj2p7yLIzqrr"
      },
      "execution_count": null,
      "outputs": []
    },
    {
      "cell_type": "code",
      "source": [
        "def get_windowed_dg(raw_dg, fs, window_length, window_overlap):\n",
        "\n",
        "  M = NumWins(raw_dg, fs, window_length, window_overlap)\n",
        "  xLen = len(raw_dg)\n",
        "  L = window_length\n",
        "  d = window_overlap\n",
        "\n",
        "  downsampled_dg = np.empty((M, 5))\n",
        "  for i in range(int(M)):\n",
        "    for ch in range(5):\n",
        "      #feat = np.mean(raw_dg[int(xLen - ((L+i*d)*fs)) : int(xLen-(i*d*fs)), ch])             #option1\n",
        "      feat = np.max(raw_dg[int(xLen - ((L+i*d)*fs)) : int(xLen-(i*d*fs)), ch])               #option2 - BEST FINAL\n",
        "      #feat = signal.decimate(raw_dg[int(xLen - ((L+i*d)*fs)) : int(xLen-(i*d*fs)), ch], M)  #option3\n",
        "      downsampled_dg[i,ch] = feat\n",
        "\n",
        "  downsampled_dg=downsampled_dg[::-1,:]\n",
        "  return downsampled_dg"
      ],
      "metadata": {
        "id": "uYJdee05zumd"
      },
      "execution_count": null,
      "outputs": []
    },
    {
      "cell_type": "code",
      "source": [
        "def create_R_matrix(features, N_wind):\n",
        "\n",
        "  M, ch = np.shape(features)\n",
        "  feats2 = np.empty([M+N_wind-1, ch])\n",
        "  \n",
        "  feats2[N_wind-1:,:] = deepcopy(features)\n",
        "  for i in range(0,N_wind-1):\n",
        "    feats2[i, :] = deepcopy(features[i,:])\n",
        "  \n",
        "  R = np.empty([M, ch*N_wind + 1])\n",
        "  R[:,0] = np.ones((M))\n",
        "  \n",
        "  for i in range(N_wind-1, np.shape(feats2)[0]):\n",
        "    temp_arr = []\n",
        "    for n in np.arange(0,N_wind)[::-1]:\n",
        "      temp_arr = np.concatenate((temp_arr, feats2[i-(n),:]), axis=None)\n",
        "\n",
        "    R[i-(N_wind-1), 1:] = temp_arr\n",
        "\n",
        "  return R"
      ],
      "metadata": {
        "id": "ybdjzSM5zwkQ"
      },
      "execution_count": null,
      "outputs": []
    },
    {
      "cell_type": "markdown",
      "source": [
        "# X_train, X_test, y_train and R_train, R_test for each subject"
      ],
      "metadata": {
        "id": "NBXEGTgA025M"
      }
    },
    {
      "cell_type": "code",
      "source": [
        "#----------SUBJECT 1-------------\n",
        "\n",
        "#X_train\n",
        "X_train_1 = get_windowed_feats(train_ecog1, 1000, 0.1,0.05)\n",
        "X_train_1 = np.nan_to_num(X_train_1)\n",
        "\n",
        "#X_test\n",
        "X_test_1 = get_windowed_feats(test_ecog1, 1000, 0.1,0.05)\n",
        "X_test_1 = np.nan_to_num(X_test_1)\n",
        "\n",
        "#y_train\n",
        "y_train_1 = get_windowed_dg(train_dg1, 25, 6, 2)\n",
        "\n",
        "#R calc\n",
        "R1_train = create_R_matrix(X_train_1, 3)\n",
        "R1_test = create_R_matrix(X_test_1, 3)"
      ],
      "metadata": {
        "id": "Bg0n7E-ZzxPO"
      },
      "execution_count": null,
      "outputs": []
    },
    {
      "cell_type": "code",
      "source": [
        "#----------SUBJECT 2-------------\n",
        "\n",
        "#X_train\n",
        "X_train_2 = get_windowed_feats(train_ecog2, 1000, 0.1,0.05)\n",
        "X_train_2 = np.nan_to_num(X_train_2)\n",
        "\n",
        "#X_test\n",
        "X_test_2 = get_windowed_feats(test_ecog2, 1000, 0.1,0.05)\n",
        "X_test_2 = np.nan_to_num(X_test_2)\n",
        "\n",
        "#y_train\n",
        "y_train_2 = get_windowed_dg(train_dg2, 25, 6, 2)\n",
        "\n",
        "#R calc\n",
        "R2_train = create_R_matrix(X_train_2, 3)\n",
        "R2_test = create_R_matrix(X_test_2, 3)"
      ],
      "metadata": {
        "id": "ZLZrSALS0Dyi"
      },
      "execution_count": null,
      "outputs": []
    },
    {
      "cell_type": "code",
      "source": [
        "#----------SUBJECT 3-------------\n",
        "\n",
        "#X_train\n",
        "X_train_3 = get_windowed_feats(train_ecog3, 1000, 0.1,0.05)\n",
        "X_train_3 = np.nan_to_num(X_train_3)\n",
        "\n",
        "#X_test\n",
        "X_test_3 = get_windowed_feats(test_ecog3, 1000, 0.1,0.05)\n",
        "X_test_3 = np.nan_to_num(X_test_3)\n",
        "\n",
        "#y_train\n",
        "y_train_3 = get_windowed_dg(train_dg3, 25, 6, 2)\n",
        "\n",
        "#R calc\n",
        "R3_train = create_R_matrix(X_train_3, 3)\n",
        "R3_test = create_R_matrix(X_test_3, 3)"
      ],
      "metadata": {
        "id": "iwAO6pP-0Eac"
      },
      "execution_count": null,
      "outputs": []
    },
    {
      "cell_type": "markdown",
      "source": [
        "# Neural network method "
      ],
      "metadata": {
        "id": "xeGIO59p1Gxv"
      }
    },
    {
      "cell_type": "markdown",
      "source": [
        "## subject 1"
      ],
      "metadata": {
        "id": "9Wup1ph21NF4"
      }
    },
    {
      "cell_type": "code",
      "source": [
        "#-----------Subject 1-------------\n",
        "\n",
        "#scaling (normalizing) the data\n",
        "scaler1 = StandardScaler()\n",
        "R1_train = scaler1.fit_transform(R1_train)\n",
        "\n",
        "scaler_filename = \"scaler1.save\"\n",
        "joblib.dump(scaler1, scaler_filename) \n",
        "\n",
        "R1_test = scaler1.transform(R1_test) "
      ],
      "metadata": {
        "id": "4mJV3MIR1FTa"
      },
      "execution_count": null,
      "outputs": []
    },
    {
      "cell_type": "code",
      "source": [
        "#creating the neural network architecture\n",
        "model = Sequential()\n",
        "model.add(Dense(128, input_dim = R1_train.shape[1], activation = 'relu'))\n",
        "model.add(Dense(256, activation = 'relu'))\n",
        "model.add(Dense(256, activation = 'relu'))\n",
        "model.add(Dense(256, activation = 'relu'))\n",
        "model.add(Dense(1, activation = 'linear'))\n",
        "\n",
        "#choosing optimizer and performance metric\n",
        "model.compile(optimizer = 'adam', loss = 'mean_absolute_error')\n",
        "\n",
        "#early stopping\n",
        "early_stop = EarlyStopping(monitor = 'val_loss', mode = 'min', verbose=1, patience = 25)"
      ],
      "metadata": {
        "id": "bdFubGB_1T7L"
      },
      "execution_count": null,
      "outputs": []
    },
    {
      "cell_type": "code",
      "source": [
        "#finger 1\n",
        "\n",
        "#model.fit with early stopping\n",
        "model.fit(R1_train, y_train_1[:,0], epochs = 500, batch_size = 32, verbose = 1, validation_split = 0.1, callbacks = [early_stop])\n",
        "model.save('model11.h5')\n",
        "files.download('model11.h5')\n",
        "#predictions\n",
        "test_pred11 = model.predict(R1_test)"
      ],
      "metadata": {
        "colab": {
          "base_uri": "https://localhost:8080/",
          "height": 1000
        },
        "id": "DRPT1Dcu2W4h",
        "outputId": "0ce7e3e6-f3bd-46d7-964a-006623a7bb6f"
      },
      "execution_count": null,
      "outputs": [
        {
          "output_type": "stream",
          "name": "stdout",
          "text": [
            "Epoch 1/500\n",
            "169/169 [==============================] - 3s 3ms/step - loss: 0.5813 - val_loss: 1.4846\n",
            "Epoch 2/500\n",
            "169/169 [==============================] - 0s 3ms/step - loss: 0.5259 - val_loss: 1.3489\n",
            "Epoch 3/500\n",
            "169/169 [==============================] - 0s 3ms/step - loss: 0.4477 - val_loss: 1.3465\n",
            "Epoch 4/500\n",
            "169/169 [==============================] - 0s 3ms/step - loss: 0.3850 - val_loss: 1.3295\n",
            "Epoch 5/500\n",
            "169/169 [==============================] - 0s 3ms/step - loss: 0.3274 - val_loss: 1.3791\n",
            "Epoch 6/500\n",
            "169/169 [==============================] - 0s 3ms/step - loss: 0.2931 - val_loss: 1.2133\n",
            "Epoch 7/500\n",
            "169/169 [==============================] - 0s 3ms/step - loss: 0.2680 - val_loss: 1.2685\n",
            "Epoch 8/500\n",
            "169/169 [==============================] - 0s 3ms/step - loss: 0.2341 - val_loss: 1.3316\n",
            "Epoch 9/500\n",
            "169/169 [==============================] - 0s 3ms/step - loss: 0.2190 - val_loss: 1.3111\n",
            "Epoch 10/500\n",
            "169/169 [==============================] - 0s 3ms/step - loss: 0.1976 - val_loss: 1.2843\n",
            "Epoch 11/500\n",
            "169/169 [==============================] - 0s 3ms/step - loss: 0.1849 - val_loss: 1.2976\n",
            "Epoch 12/500\n",
            "169/169 [==============================] - 0s 3ms/step - loss: 0.1732 - val_loss: 1.3013\n",
            "Epoch 13/500\n",
            "169/169 [==============================] - 0s 3ms/step - loss: 0.1676 - val_loss: 1.2896\n",
            "Epoch 14/500\n",
            "169/169 [==============================] - 0s 3ms/step - loss: 0.1558 - val_loss: 1.2477\n",
            "Epoch 15/500\n",
            "169/169 [==============================] - 0s 3ms/step - loss: 0.1452 - val_loss: 1.2863\n",
            "Epoch 16/500\n",
            "169/169 [==============================] - 0s 3ms/step - loss: 0.1358 - val_loss: 1.2717\n",
            "Epoch 17/500\n",
            "169/169 [==============================] - 0s 3ms/step - loss: 0.1273 - val_loss: 1.2439\n",
            "Epoch 18/500\n",
            "169/169 [==============================] - 0s 3ms/step - loss: 0.1253 - val_loss: 1.2707\n",
            "Epoch 19/500\n",
            "169/169 [==============================] - 0s 3ms/step - loss: 0.1192 - val_loss: 1.2649\n",
            "Epoch 20/500\n",
            "169/169 [==============================] - 0s 3ms/step - loss: 0.1179 - val_loss: 1.2635\n",
            "Epoch 21/500\n",
            "169/169 [==============================] - 0s 3ms/step - loss: 0.1116 - val_loss: 1.2678\n",
            "Epoch 22/500\n",
            "169/169 [==============================] - 0s 3ms/step - loss: 0.1039 - val_loss: 1.2138\n",
            "Epoch 23/500\n",
            "169/169 [==============================] - 0s 3ms/step - loss: 0.0980 - val_loss: 1.2454\n",
            "Epoch 24/500\n",
            "169/169 [==============================] - 0s 3ms/step - loss: 0.0965 - val_loss: 1.2588\n",
            "Epoch 25/500\n",
            "169/169 [==============================] - 0s 3ms/step - loss: 0.0945 - val_loss: 1.2379\n",
            "Epoch 26/500\n",
            "169/169 [==============================] - 0s 3ms/step - loss: 0.0917 - val_loss: 1.2413\n",
            "Epoch 27/500\n",
            "169/169 [==============================] - 0s 3ms/step - loss: 0.0883 - val_loss: 1.2313\n",
            "Epoch 28/500\n",
            "169/169 [==============================] - 0s 3ms/step - loss: 0.0825 - val_loss: 1.2389\n",
            "Epoch 29/500\n",
            "169/169 [==============================] - 0s 3ms/step - loss: 0.0864 - val_loss: 1.1977\n",
            "Epoch 30/500\n",
            "169/169 [==============================] - 0s 3ms/step - loss: 0.0861 - val_loss: 1.2532\n",
            "Epoch 31/500\n",
            "169/169 [==============================] - 0s 3ms/step - loss: 0.0790 - val_loss: 1.2480\n",
            "Epoch 32/500\n",
            "169/169 [==============================] - 0s 3ms/step - loss: 0.0780 - val_loss: 1.2154\n",
            "Epoch 33/500\n",
            "169/169 [==============================] - 0s 3ms/step - loss: 0.0760 - val_loss: 1.2394\n",
            "Epoch 34/500\n",
            "169/169 [==============================] - 0s 3ms/step - loss: 0.0743 - val_loss: 1.2617\n",
            "Epoch 35/500\n",
            "169/169 [==============================] - 0s 3ms/step - loss: 0.0751 - val_loss: 1.2518\n",
            "Epoch 36/500\n",
            "169/169 [==============================] - 0s 3ms/step - loss: 0.0704 - val_loss: 1.2549\n",
            "Epoch 37/500\n",
            "169/169 [==============================] - 0s 3ms/step - loss: 0.0724 - val_loss: 1.3050\n",
            "Epoch 38/500\n",
            "169/169 [==============================] - 0s 3ms/step - loss: 0.0746 - val_loss: 1.2346\n",
            "Epoch 39/500\n",
            "169/169 [==============================] - 0s 3ms/step - loss: 0.0725 - val_loss: 1.2539\n",
            "Epoch 40/500\n",
            "169/169 [==============================] - 0s 3ms/step - loss: 0.0730 - val_loss: 1.2874\n",
            "Epoch 41/500\n",
            "169/169 [==============================] - 0s 3ms/step - loss: 0.0673 - val_loss: 1.2597\n",
            "Epoch 42/500\n",
            "169/169 [==============================] - 0s 3ms/step - loss: 0.0665 - val_loss: 1.2563\n",
            "Epoch 43/500\n",
            "169/169 [==============================] - 0s 3ms/step - loss: 0.0664 - val_loss: 1.2506\n",
            "Epoch 44/500\n",
            "169/169 [==============================] - 0s 3ms/step - loss: 0.0659 - val_loss: 1.2630\n",
            "Epoch 45/500\n",
            "169/169 [==============================] - 0s 3ms/step - loss: 0.0640 - val_loss: 1.2571\n",
            "Epoch 46/500\n",
            "169/169 [==============================] - 0s 3ms/step - loss: 0.0740 - val_loss: 1.2334\n",
            "Epoch 47/500\n",
            "169/169 [==============================] - 0s 3ms/step - loss: 0.0721 - val_loss: 1.2846\n",
            "Epoch 48/500\n",
            "169/169 [==============================] - 0s 3ms/step - loss: 0.0655 - val_loss: 1.2589\n",
            "Epoch 49/500\n",
            "169/169 [==============================] - 0s 3ms/step - loss: 0.0619 - val_loss: 1.2778\n",
            "Epoch 50/500\n",
            "169/169 [==============================] - 0s 3ms/step - loss: 0.0594 - val_loss: 1.2696\n",
            "Epoch 51/500\n",
            "169/169 [==============================] - 0s 3ms/step - loss: 0.0563 - val_loss: 1.2743\n",
            "Epoch 52/500\n",
            "169/169 [==============================] - 0s 3ms/step - loss: 0.0544 - val_loss: 1.2438\n",
            "Epoch 53/500\n",
            "169/169 [==============================] - 0s 3ms/step - loss: 0.0547 - val_loss: 1.2857\n",
            "Epoch 54/500\n",
            "169/169 [==============================] - 0s 3ms/step - loss: 0.0536 - val_loss: 1.2764\n",
            "Epoch 54: early stopping\n"
          ]
        },
        {
          "output_type": "display_data",
          "data": {
            "text/plain": [
              "<IPython.core.display.Javascript object>"
            ],
            "application/javascript": [
              "\n",
              "    async function download(id, filename, size) {\n",
              "      if (!google.colab.kernel.accessAllowed) {\n",
              "        return;\n",
              "      }\n",
              "      const div = document.createElement('div');\n",
              "      const label = document.createElement('label');\n",
              "      label.textContent = `Downloading \"${filename}\": `;\n",
              "      div.appendChild(label);\n",
              "      const progress = document.createElement('progress');\n",
              "      progress.max = size;\n",
              "      div.appendChild(progress);\n",
              "      document.body.appendChild(div);\n",
              "\n",
              "      const buffers = [];\n",
              "      let downloaded = 0;\n",
              "\n",
              "      const channel = await google.colab.kernel.comms.open(id);\n",
              "      // Send a message to notify the kernel that we're ready.\n",
              "      channel.send({})\n",
              "\n",
              "      for await (const message of channel.messages) {\n",
              "        // Send a message to notify the kernel that we're ready.\n",
              "        channel.send({})\n",
              "        if (message.buffers) {\n",
              "          for (const buffer of message.buffers) {\n",
              "            buffers.push(buffer);\n",
              "            downloaded += buffer.byteLength;\n",
              "            progress.value = downloaded;\n",
              "          }\n",
              "        }\n",
              "      }\n",
              "      const blob = new Blob(buffers, {type: 'application/binary'});\n",
              "      const a = document.createElement('a');\n",
              "      a.href = window.URL.createObjectURL(blob);\n",
              "      a.download = filename;\n",
              "      div.appendChild(a);\n",
              "      a.click();\n",
              "      div.remove();\n",
              "    }\n",
              "  "
            ]
          },
          "metadata": {}
        },
        {
          "output_type": "display_data",
          "data": {
            "text/plain": [
              "<IPython.core.display.Javascript object>"
            ],
            "application/javascript": [
              "download(\"download_4d3b50d2-039d-4138-8c31-8329c78361b7\", \"model11.h5\", 4281872)"
            ]
          },
          "metadata": {}
        }
      ]
    },
    {
      "cell_type": "code",
      "source": [
        "#finger 2\n",
        "\n",
        "#model.fit with early stopping\n",
        "model.fit(R1_train, y_train_1[:,1], epochs = 500, batch_size = 32, verbose = 1, validation_split = 0.1, callbacks = [early_stop])\n",
        "model.save('model12.h5')\n",
        "files.download('model12.h5')\n",
        "#predictions\n",
        "test_pred12 = model.predict(R1_test)"
      ],
      "metadata": {
        "colab": {
          "base_uri": "https://localhost:8080/",
          "height": 1000
        },
        "id": "M9jSSu2s2o89",
        "outputId": "fe24637a-4b26-4e27-d2f1-ee2b2c65bce5"
      },
      "execution_count": null,
      "outputs": [
        {
          "output_type": "stream",
          "name": "stdout",
          "text": [
            "Epoch 1/500\n",
            "169/169 [==============================] - 0s 3ms/step - loss: 0.6783 - val_loss: 0.6394\n",
            "Epoch 2/500\n",
            "169/169 [==============================] - 0s 3ms/step - loss: 0.5543 - val_loss: 0.5672\n",
            "Epoch 3/500\n",
            "169/169 [==============================] - 0s 3ms/step - loss: 0.4437 - val_loss: 0.5942\n",
            "Epoch 4/500\n",
            "169/169 [==============================] - 0s 3ms/step - loss: 0.3721 - val_loss: 0.5777\n",
            "Epoch 5/500\n",
            "169/169 [==============================] - 0s 3ms/step - loss: 0.3110 - val_loss: 0.5760\n",
            "Epoch 6/500\n",
            "169/169 [==============================] - 0s 3ms/step - loss: 0.2620 - val_loss: 0.5614\n",
            "Epoch 7/500\n",
            "169/169 [==============================] - 0s 3ms/step - loss: 0.2335 - val_loss: 0.5587\n",
            "Epoch 8/500\n",
            "169/169 [==============================] - 0s 3ms/step - loss: 0.2002 - val_loss: 0.5812\n",
            "Epoch 9/500\n",
            "169/169 [==============================] - 0s 3ms/step - loss: 0.1857 - val_loss: 0.5663\n",
            "Epoch 10/500\n",
            "169/169 [==============================] - 0s 3ms/step - loss: 0.1709 - val_loss: 0.5497\n",
            "Epoch 11/500\n",
            "169/169 [==============================] - 0s 3ms/step - loss: 0.1547 - val_loss: 0.5559\n",
            "Epoch 12/500\n",
            "169/169 [==============================] - 0s 3ms/step - loss: 0.1435 - val_loss: 0.5633\n",
            "Epoch 13/500\n",
            "169/169 [==============================] - 0s 3ms/step - loss: 0.1355 - val_loss: 0.5558\n",
            "Epoch 14/500\n",
            "169/169 [==============================] - 0s 3ms/step - loss: 0.1253 - val_loss: 0.5737\n",
            "Epoch 15/500\n",
            "169/169 [==============================] - 0s 3ms/step - loss: 0.1234 - val_loss: 0.5479\n",
            "Epoch 16/500\n",
            "169/169 [==============================] - 0s 3ms/step - loss: 0.1202 - val_loss: 0.5507\n",
            "Epoch 17/500\n",
            "169/169 [==============================] - 0s 3ms/step - loss: 0.1150 - val_loss: 0.5541\n",
            "Epoch 18/500\n",
            "169/169 [==============================] - 0s 3ms/step - loss: 0.1052 - val_loss: 0.5460\n",
            "Epoch 19/500\n",
            "169/169 [==============================] - 0s 3ms/step - loss: 0.1016 - val_loss: 0.5586\n",
            "Epoch 20/500\n",
            "169/169 [==============================] - 0s 3ms/step - loss: 0.0974 - val_loss: 0.5637\n",
            "Epoch 21/500\n",
            "169/169 [==============================] - 0s 3ms/step - loss: 0.0987 - val_loss: 0.5506\n",
            "Epoch 22/500\n",
            "169/169 [==============================] - 0s 3ms/step - loss: 0.0913 - val_loss: 0.5630\n",
            "Epoch 23/500\n",
            "169/169 [==============================] - 0s 3ms/step - loss: 0.0891 - val_loss: 0.5640\n",
            "Epoch 24/500\n",
            "169/169 [==============================] - 0s 3ms/step - loss: 0.0884 - val_loss: 0.5483\n",
            "Epoch 25/500\n",
            "169/169 [==============================] - 0s 3ms/step - loss: 0.0881 - val_loss: 0.5718\n",
            "Epoch 26/500\n",
            "169/169 [==============================] - 0s 3ms/step - loss: 0.0882 - val_loss: 0.5479\n",
            "Epoch 27/500\n",
            "169/169 [==============================] - 0s 3ms/step - loss: 0.0851 - val_loss: 0.5530\n",
            "Epoch 28/500\n",
            "169/169 [==============================] - 0s 3ms/step - loss: 0.0866 - val_loss: 0.5532\n",
            "Epoch 29/500\n",
            "169/169 [==============================] - 0s 3ms/step - loss: 0.0872 - val_loss: 0.5458\n",
            "Epoch 30/500\n",
            "169/169 [==============================] - 0s 3ms/step - loss: 0.0812 - val_loss: 0.5528\n",
            "Epoch 31/500\n",
            "169/169 [==============================] - 0s 3ms/step - loss: 0.0802 - val_loss: 0.5722\n",
            "Epoch 32/500\n",
            "169/169 [==============================] - 0s 3ms/step - loss: 0.0803 - val_loss: 0.5416\n",
            "Epoch 33/500\n",
            "169/169 [==============================] - 0s 3ms/step - loss: 0.0748 - val_loss: 0.5527\n",
            "Epoch 34/500\n",
            "169/169 [==============================] - 0s 3ms/step - loss: 0.0782 - val_loss: 0.5492\n",
            "Epoch 35/500\n",
            "169/169 [==============================] - 0s 3ms/step - loss: 0.0749 - val_loss: 0.5289\n",
            "Epoch 36/500\n",
            "169/169 [==============================] - 0s 3ms/step - loss: 0.0755 - val_loss: 0.5535\n",
            "Epoch 37/500\n",
            "169/169 [==============================] - 0s 3ms/step - loss: 0.0714 - val_loss: 0.5361\n",
            "Epoch 38/500\n",
            "169/169 [==============================] - 0s 3ms/step - loss: 0.0725 - val_loss: 0.5322\n",
            "Epoch 39/500\n",
            "169/169 [==============================] - 0s 3ms/step - loss: 0.0703 - val_loss: 0.5535\n",
            "Epoch 40/500\n",
            "169/169 [==============================] - 0s 3ms/step - loss: 0.0668 - val_loss: 0.5434\n",
            "Epoch 41/500\n",
            "169/169 [==============================] - 0s 3ms/step - loss: 0.0708 - val_loss: 0.5508\n",
            "Epoch 42/500\n",
            "169/169 [==============================] - 0s 3ms/step - loss: 0.0687 - val_loss: 0.5427\n",
            "Epoch 43/500\n",
            "169/169 [==============================] - 0s 3ms/step - loss: 0.0675 - val_loss: 0.5492\n",
            "Epoch 44/500\n",
            "169/169 [==============================] - 0s 3ms/step - loss: 0.0661 - val_loss: 0.5391\n",
            "Epoch 45/500\n",
            "169/169 [==============================] - 0s 3ms/step - loss: 0.0648 - val_loss: 0.5402\n",
            "Epoch 46/500\n",
            "169/169 [==============================] - 0s 3ms/step - loss: 0.0632 - val_loss: 0.5437\n",
            "Epoch 47/500\n",
            "169/169 [==============================] - 0s 3ms/step - loss: 0.0628 - val_loss: 0.5285\n",
            "Epoch 48/500\n",
            "169/169 [==============================] - 0s 3ms/step - loss: 0.0648 - val_loss: 0.5557\n",
            "Epoch 49/500\n",
            "169/169 [==============================] - 0s 3ms/step - loss: 0.0637 - val_loss: 0.5635\n",
            "Epoch 50/500\n",
            "169/169 [==============================] - 0s 3ms/step - loss: 0.0603 - val_loss: 0.5609\n",
            "Epoch 51/500\n",
            "169/169 [==============================] - 0s 3ms/step - loss: 0.0593 - val_loss: 0.5391\n",
            "Epoch 52/500\n",
            "169/169 [==============================] - 0s 3ms/step - loss: 0.0636 - val_loss: 0.5740\n",
            "Epoch 53/500\n",
            "169/169 [==============================] - 0s 3ms/step - loss: 0.0627 - val_loss: 0.5483\n",
            "Epoch 54/500\n",
            "169/169 [==============================] - 0s 3ms/step - loss: 0.0611 - val_loss: 0.5401\n",
            "Epoch 55/500\n",
            "169/169 [==============================] - 0s 3ms/step - loss: 0.0600 - val_loss: 0.5392\n",
            "Epoch 56/500\n",
            "169/169 [==============================] - 0s 3ms/step - loss: 0.0610 - val_loss: 0.5333\n",
            "Epoch 57/500\n",
            "169/169 [==============================] - 0s 3ms/step - loss: 0.0586 - val_loss: 0.5472\n",
            "Epoch 58/500\n",
            "169/169 [==============================] - 0s 3ms/step - loss: 0.0612 - val_loss: 0.5518\n",
            "Epoch 59/500\n",
            "169/169 [==============================] - 0s 3ms/step - loss: 0.0595 - val_loss: 0.5341\n",
            "Epoch 60/500\n",
            "169/169 [==============================] - 0s 3ms/step - loss: 0.0587 - val_loss: 0.5590\n",
            "Epoch 61/500\n",
            "169/169 [==============================] - 0s 3ms/step - loss: 0.0613 - val_loss: 0.5422\n",
            "Epoch 62/500\n",
            "169/169 [==============================] - 0s 3ms/step - loss: 0.0623 - val_loss: 0.5482\n",
            "Epoch 63/500\n",
            "169/169 [==============================] - 0s 3ms/step - loss: 0.0567 - val_loss: 0.5547\n",
            "Epoch 64/500\n",
            "169/169 [==============================] - 0s 3ms/step - loss: 0.0562 - val_loss: 0.5454\n",
            "Epoch 65/500\n",
            "169/169 [==============================] - 0s 3ms/step - loss: 0.0563 - val_loss: 0.5473\n",
            "Epoch 66/500\n",
            "169/169 [==============================] - 0s 3ms/step - loss: 0.0554 - val_loss: 0.5531\n",
            "Epoch 67/500\n",
            "169/169 [==============================] - 0s 3ms/step - loss: 0.0559 - val_loss: 0.5544\n",
            "Epoch 68/500\n",
            "169/169 [==============================] - 0s 3ms/step - loss: 0.0563 - val_loss: 0.5476\n",
            "Epoch 69/500\n",
            "169/169 [==============================] - 0s 3ms/step - loss: 0.0532 - val_loss: 0.5560\n",
            "Epoch 70/500\n",
            "169/169 [==============================] - 0s 3ms/step - loss: 0.0530 - val_loss: 0.5533\n",
            "Epoch 71/500\n",
            "169/169 [==============================] - 0s 3ms/step - loss: 0.0547 - val_loss: 0.5569\n",
            "Epoch 72/500\n",
            "169/169 [==============================] - 0s 3ms/step - loss: 0.0515 - val_loss: 0.5519\n",
            "Epoch 72: early stopping\n"
          ]
        },
        {
          "output_type": "display_data",
          "data": {
            "text/plain": [
              "<IPython.core.display.Javascript object>"
            ],
            "application/javascript": [
              "\n",
              "    async function download(id, filename, size) {\n",
              "      if (!google.colab.kernel.accessAllowed) {\n",
              "        return;\n",
              "      }\n",
              "      const div = document.createElement('div');\n",
              "      const label = document.createElement('label');\n",
              "      label.textContent = `Downloading \"${filename}\": `;\n",
              "      div.appendChild(label);\n",
              "      const progress = document.createElement('progress');\n",
              "      progress.max = size;\n",
              "      div.appendChild(progress);\n",
              "      document.body.appendChild(div);\n",
              "\n",
              "      const buffers = [];\n",
              "      let downloaded = 0;\n",
              "\n",
              "      const channel = await google.colab.kernel.comms.open(id);\n",
              "      // Send a message to notify the kernel that we're ready.\n",
              "      channel.send({})\n",
              "\n",
              "      for await (const message of channel.messages) {\n",
              "        // Send a message to notify the kernel that we're ready.\n",
              "        channel.send({})\n",
              "        if (message.buffers) {\n",
              "          for (const buffer of message.buffers) {\n",
              "            buffers.push(buffer);\n",
              "            downloaded += buffer.byteLength;\n",
              "            progress.value = downloaded;\n",
              "          }\n",
              "        }\n",
              "      }\n",
              "      const blob = new Blob(buffers, {type: 'application/binary'});\n",
              "      const a = document.createElement('a');\n",
              "      a.href = window.URL.createObjectURL(blob);\n",
              "      a.download = filename;\n",
              "      div.appendChild(a);\n",
              "      a.click();\n",
              "      div.remove();\n",
              "    }\n",
              "  "
            ]
          },
          "metadata": {}
        },
        {
          "output_type": "display_data",
          "data": {
            "text/plain": [
              "<IPython.core.display.Javascript object>"
            ],
            "application/javascript": [
              "download(\"download_8f5449b0-496a-424c-afe7-907aae529db5\", \"model12.h5\", 4281872)"
            ]
          },
          "metadata": {}
        }
      ]
    },
    {
      "cell_type": "code",
      "source": [
        "#finger 3\n",
        "\n",
        "#model.fit with early stopping\n",
        "model.fit(R1_train, y_train_1[:,2], epochs = 500, batch_size = 64, verbose = 1, validation_split = 0.1, callbacks = [early_stop])\n",
        "model.save('model13.h5')\n",
        "files.download('model13.h5')\n",
        "#predictions\n",
        "test_pred13 = model.predict(R1_test)"
      ],
      "metadata": {
        "colab": {
          "base_uri": "https://localhost:8080/",
          "height": 937
        },
        "id": "CmVPG-yF3jVN",
        "outputId": "471a7eda-aee7-41c7-863b-1530626cac5c"
      },
      "execution_count": null,
      "outputs": [
        {
          "output_type": "stream",
          "name": "stdout",
          "text": [
            "Epoch 1/500\n",
            "85/85 [==============================] - 0s 3ms/step - loss: 0.6870 - val_loss: 0.1600\n",
            "Epoch 2/500\n",
            "85/85 [==============================] - 0s 3ms/step - loss: 0.5777 - val_loss: 0.1641\n",
            "Epoch 3/500\n",
            "85/85 [==============================] - 0s 3ms/step - loss: 0.5490 - val_loss: 0.1773\n",
            "Epoch 4/500\n",
            "85/85 [==============================] - 0s 3ms/step - loss: 0.5175 - val_loss: 0.1705\n",
            "Epoch 5/500\n",
            "85/85 [==============================] - 0s 3ms/step - loss: 0.4798 - val_loss: 0.1773\n",
            "Epoch 6/500\n",
            "85/85 [==============================] - 0s 3ms/step - loss: 0.4358 - val_loss: 0.1952\n",
            "Epoch 7/500\n",
            "85/85 [==============================] - 0s 3ms/step - loss: 0.4027 - val_loss: 0.1969\n",
            "Epoch 8/500\n",
            "85/85 [==============================] - 0s 3ms/step - loss: 0.3544 - val_loss: 0.2576\n",
            "Epoch 9/500\n",
            "85/85 [==============================] - 0s 3ms/step - loss: 0.3191 - val_loss: 0.2433\n",
            "Epoch 10/500\n",
            "85/85 [==============================] - 0s 3ms/step - loss: 0.2796 - val_loss: 0.2873\n",
            "Epoch 11/500\n",
            "85/85 [==============================] - 0s 3ms/step - loss: 0.2459 - val_loss: 0.2564\n",
            "Epoch 12/500\n",
            "85/85 [==============================] - 0s 3ms/step - loss: 0.2288 - val_loss: 0.3401\n",
            "Epoch 13/500\n",
            "85/85 [==============================] - 0s 3ms/step - loss: 0.2082 - val_loss: 0.3053\n",
            "Epoch 14/500\n",
            "85/85 [==============================] - 0s 3ms/step - loss: 0.1870 - val_loss: 0.3341\n",
            "Epoch 15/500\n",
            "85/85 [==============================] - 0s 3ms/step - loss: 0.1703 - val_loss: 0.3050\n",
            "Epoch 16/500\n",
            "85/85 [==============================] - 0s 3ms/step - loss: 0.1580 - val_loss: 0.3022\n",
            "Epoch 17/500\n",
            "85/85 [==============================] - 0s 3ms/step - loss: 0.1514 - val_loss: 0.3492\n",
            "Epoch 18/500\n",
            "85/85 [==============================] - 0s 3ms/step - loss: 0.1420 - val_loss: 0.3318\n",
            "Epoch 19/500\n",
            "85/85 [==============================] - 0s 3ms/step - loss: 0.1403 - val_loss: 0.3036\n",
            "Epoch 20/500\n",
            "85/85 [==============================] - 0s 3ms/step - loss: 0.1266 - val_loss: 0.3230\n",
            "Epoch 21/500\n",
            "85/85 [==============================] - 0s 3ms/step - loss: 0.1245 - val_loss: 0.3056\n",
            "Epoch 22/500\n",
            "85/85 [==============================] - 0s 3ms/step - loss: 0.1189 - val_loss: 0.3242\n",
            "Epoch 23/500\n",
            "85/85 [==============================] - 0s 3ms/step - loss: 0.1118 - val_loss: 0.3231\n",
            "Epoch 24/500\n",
            "85/85 [==============================] - 0s 3ms/step - loss: 0.1085 - val_loss: 0.3348\n",
            "Epoch 25/500\n",
            "85/85 [==============================] - 0s 3ms/step - loss: 0.1029 - val_loss: 0.3133\n",
            "Epoch 26/500\n",
            "85/85 [==============================] - 0s 3ms/step - loss: 0.1013 - val_loss: 0.3202\n",
            "Epoch 26: early stopping\n"
          ]
        },
        {
          "output_type": "display_data",
          "data": {
            "text/plain": [
              "<IPython.core.display.Javascript object>"
            ],
            "application/javascript": [
              "\n",
              "    async function download(id, filename, size) {\n",
              "      if (!google.colab.kernel.accessAllowed) {\n",
              "        return;\n",
              "      }\n",
              "      const div = document.createElement('div');\n",
              "      const label = document.createElement('label');\n",
              "      label.textContent = `Downloading \"${filename}\": `;\n",
              "      div.appendChild(label);\n",
              "      const progress = document.createElement('progress');\n",
              "      progress.max = size;\n",
              "      div.appendChild(progress);\n",
              "      document.body.appendChild(div);\n",
              "\n",
              "      const buffers = [];\n",
              "      let downloaded = 0;\n",
              "\n",
              "      const channel = await google.colab.kernel.comms.open(id);\n",
              "      // Send a message to notify the kernel that we're ready.\n",
              "      channel.send({})\n",
              "\n",
              "      for await (const message of channel.messages) {\n",
              "        // Send a message to notify the kernel that we're ready.\n",
              "        channel.send({})\n",
              "        if (message.buffers) {\n",
              "          for (const buffer of message.buffers) {\n",
              "            buffers.push(buffer);\n",
              "            downloaded += buffer.byteLength;\n",
              "            progress.value = downloaded;\n",
              "          }\n",
              "        }\n",
              "      }\n",
              "      const blob = new Blob(buffers, {type: 'application/binary'});\n",
              "      const a = document.createElement('a');\n",
              "      a.href = window.URL.createObjectURL(blob);\n",
              "      a.download = filename;\n",
              "      div.appendChild(a);\n",
              "      a.click();\n",
              "      div.remove();\n",
              "    }\n",
              "  "
            ]
          },
          "metadata": {}
        },
        {
          "output_type": "display_data",
          "data": {
            "text/plain": [
              "<IPython.core.display.Javascript object>"
            ],
            "application/javascript": [
              "download(\"download_181ab45a-6cb5-44c5-ba98-124367487f88\", \"model13.h5\", 4281872)"
            ]
          },
          "metadata": {}
        }
      ]
    },
    {
      "cell_type": "code",
      "source": [
        "#finger 4\n",
        "\n",
        "#model.fit with early stopping\n",
        "model.fit(R1_train, y_train_1[:,3], epochs = 500, batch_size = 32, verbose = 1, validation_split = 0.1, callbacks = [early_stop])\n",
        "model.save('model14.h5')\n",
        "files.download('model14.h5')\n",
        "#predictions\n",
        "test_pred14 = model.predict(R1_test)"
      ],
      "metadata": {
        "colab": {
          "base_uri": "https://localhost:8080/",
          "height": 1000
        },
        "id": "zSuugqWt3jkC",
        "outputId": "708da3c6-a906-49f3-adad-8641751d4e10"
      },
      "execution_count": null,
      "outputs": [
        {
          "output_type": "stream",
          "name": "stdout",
          "text": [
            "Epoch 1/500\n",
            "169/169 [==============================] - 0s 3ms/step - loss: 0.6145 - val_loss: 0.6703\n",
            "Epoch 2/500\n",
            "169/169 [==============================] - 0s 3ms/step - loss: 0.4641 - val_loss: 0.7082\n",
            "Epoch 3/500\n",
            "169/169 [==============================] - 0s 3ms/step - loss: 0.3766 - val_loss: 0.6258\n",
            "Epoch 4/500\n",
            "169/169 [==============================] - 0s 3ms/step - loss: 0.3115 - val_loss: 0.6717\n",
            "Epoch 5/500\n",
            "169/169 [==============================] - 0s 3ms/step - loss: 0.2676 - val_loss: 0.6823\n",
            "Epoch 6/500\n",
            "169/169 [==============================] - 0s 3ms/step - loss: 0.2313 - val_loss: 0.6686\n",
            "Epoch 7/500\n",
            "169/169 [==============================] - 0s 3ms/step - loss: 0.2082 - val_loss: 0.6566\n",
            "Epoch 8/500\n",
            "169/169 [==============================] - 0s 3ms/step - loss: 0.1844 - val_loss: 0.6451\n",
            "Epoch 9/500\n",
            "169/169 [==============================] - 0s 3ms/step - loss: 0.1718 - val_loss: 0.6581\n",
            "Epoch 10/500\n",
            "169/169 [==============================] - 0s 3ms/step - loss: 0.1566 - val_loss: 0.6620\n",
            "Epoch 11/500\n",
            "169/169 [==============================] - 0s 3ms/step - loss: 0.1449 - val_loss: 0.6555\n",
            "Epoch 12/500\n",
            "169/169 [==============================] - 0s 3ms/step - loss: 0.1378 - val_loss: 0.6813\n",
            "Epoch 13/500\n",
            "169/169 [==============================] - 0s 3ms/step - loss: 0.1309 - val_loss: 0.6448\n",
            "Epoch 14/500\n",
            "169/169 [==============================] - 0s 3ms/step - loss: 0.1258 - val_loss: 0.6563\n",
            "Epoch 15/500\n",
            "169/169 [==============================] - 0s 3ms/step - loss: 0.1230 - val_loss: 0.6661\n",
            "Epoch 16/500\n",
            "169/169 [==============================] - 0s 3ms/step - loss: 0.1188 - val_loss: 0.6659\n",
            "Epoch 17/500\n",
            "169/169 [==============================] - 0s 3ms/step - loss: 0.1148 - val_loss: 0.6611\n",
            "Epoch 18/500\n",
            "169/169 [==============================] - 0s 3ms/step - loss: 0.1108 - val_loss: 0.6768\n",
            "Epoch 19/500\n",
            "169/169 [==============================] - 0s 3ms/step - loss: 0.1088 - val_loss: 0.6714\n",
            "Epoch 20/500\n",
            "169/169 [==============================] - 0s 3ms/step - loss: 0.1043 - val_loss: 0.6678\n",
            "Epoch 21/500\n",
            "169/169 [==============================] - 0s 3ms/step - loss: 0.1031 - val_loss: 0.6800\n",
            "Epoch 22/500\n",
            "169/169 [==============================] - 0s 3ms/step - loss: 0.0978 - val_loss: 0.6872\n",
            "Epoch 23/500\n",
            "169/169 [==============================] - 0s 3ms/step - loss: 0.0982 - val_loss: 0.6599\n",
            "Epoch 24/500\n",
            "169/169 [==============================] - 0s 3ms/step - loss: 0.0922 - val_loss: 0.6867\n",
            "Epoch 25/500\n",
            "169/169 [==============================] - 0s 3ms/step - loss: 0.0963 - val_loss: 0.6872\n",
            "Epoch 26/500\n",
            "169/169 [==============================] - 0s 3ms/step - loss: 0.0935 - val_loss: 0.6642\n",
            "Epoch 27/500\n",
            "169/169 [==============================] - 0s 3ms/step - loss: 0.0901 - val_loss: 0.6742\n",
            "Epoch 28/500\n",
            "169/169 [==============================] - 0s 3ms/step - loss: 0.0884 - val_loss: 0.6567\n",
            "Epoch 28: early stopping\n"
          ]
        },
        {
          "output_type": "display_data",
          "data": {
            "text/plain": [
              "<IPython.core.display.Javascript object>"
            ],
            "application/javascript": [
              "\n",
              "    async function download(id, filename, size) {\n",
              "      if (!google.colab.kernel.accessAllowed) {\n",
              "        return;\n",
              "      }\n",
              "      const div = document.createElement('div');\n",
              "      const label = document.createElement('label');\n",
              "      label.textContent = `Downloading \"${filename}\": `;\n",
              "      div.appendChild(label);\n",
              "      const progress = document.createElement('progress');\n",
              "      progress.max = size;\n",
              "      div.appendChild(progress);\n",
              "      document.body.appendChild(div);\n",
              "\n",
              "      const buffers = [];\n",
              "      let downloaded = 0;\n",
              "\n",
              "      const channel = await google.colab.kernel.comms.open(id);\n",
              "      // Send a message to notify the kernel that we're ready.\n",
              "      channel.send({})\n",
              "\n",
              "      for await (const message of channel.messages) {\n",
              "        // Send a message to notify the kernel that we're ready.\n",
              "        channel.send({})\n",
              "        if (message.buffers) {\n",
              "          for (const buffer of message.buffers) {\n",
              "            buffers.push(buffer);\n",
              "            downloaded += buffer.byteLength;\n",
              "            progress.value = downloaded;\n",
              "          }\n",
              "        }\n",
              "      }\n",
              "      const blob = new Blob(buffers, {type: 'application/binary'});\n",
              "      const a = document.createElement('a');\n",
              "      a.href = window.URL.createObjectURL(blob);\n",
              "      a.download = filename;\n",
              "      div.appendChild(a);\n",
              "      a.click();\n",
              "      div.remove();\n",
              "    }\n",
              "  "
            ]
          },
          "metadata": {}
        },
        {
          "output_type": "display_data",
          "data": {
            "text/plain": [
              "<IPython.core.display.Javascript object>"
            ],
            "application/javascript": [
              "download(\"download_e1feec18-f204-44b2-b5be-32edf2ca0891\", \"model14.h5\", 4281872)"
            ]
          },
          "metadata": {}
        }
      ]
    },
    {
      "cell_type": "code",
      "source": [
        "#finger 5\n",
        "\n",
        "#model.fit with early stopping\n",
        "model.fit(R1_train, y_train_1[:,4], epochs = 500, batch_size = 64, verbose = 1, validation_split = 0.1, callbacks = [early_stop])\n",
        "model.save('model15.h5')\n",
        "files.download('model15.h5')\n",
        "#predictions\n",
        "test_pred15 = model.predict(R1_test)"
      ],
      "metadata": {
        "colab": {
          "base_uri": "https://localhost:8080/",
          "height": 937
        },
        "id": "5tBCbFxw3jxE",
        "outputId": "35d90610-05ff-46ce-a227-b15459ed2296"
      },
      "execution_count": null,
      "outputs": [
        {
          "output_type": "stream",
          "name": "stdout",
          "text": [
            "Epoch 1/500\n",
            "85/85 [==============================] - 0s 3ms/step - loss: 0.6884 - val_loss: 0.2540\n",
            "Epoch 2/500\n",
            "85/85 [==============================] - 0s 3ms/step - loss: 0.4171 - val_loss: 0.2577\n",
            "Epoch 3/500\n",
            "85/85 [==============================] - 0s 3ms/step - loss: 0.3316 - val_loss: 0.2952\n",
            "Epoch 4/500\n",
            "85/85 [==============================] - 0s 3ms/step - loss: 0.2693 - val_loss: 0.2593\n",
            "Epoch 5/500\n",
            "85/85 [==============================] - 0s 3ms/step - loss: 0.2319 - val_loss: 0.3025\n",
            "Epoch 6/500\n",
            "85/85 [==============================] - 0s 3ms/step - loss: 0.2142 - val_loss: 0.3353\n",
            "Epoch 7/500\n",
            "85/85 [==============================] - 0s 3ms/step - loss: 0.1869 - val_loss: 0.2914\n",
            "Epoch 8/500\n",
            "85/85 [==============================] - 0s 3ms/step - loss: 0.1693 - val_loss: 0.3421\n",
            "Epoch 9/500\n",
            "85/85 [==============================] - 0s 3ms/step - loss: 0.1602 - val_loss: 0.3744\n",
            "Epoch 10/500\n",
            "85/85 [==============================] - 0s 3ms/step - loss: 0.1435 - val_loss: 0.3240\n",
            "Epoch 11/500\n",
            "85/85 [==============================] - 0s 3ms/step - loss: 0.1391 - val_loss: 0.3732\n",
            "Epoch 12/500\n",
            "85/85 [==============================] - 0s 3ms/step - loss: 0.1275 - val_loss: 0.3331\n",
            "Epoch 13/500\n",
            "85/85 [==============================] - 0s 3ms/step - loss: 0.1213 - val_loss: 0.3671\n",
            "Epoch 14/500\n",
            "85/85 [==============================] - 0s 3ms/step - loss: 0.1127 - val_loss: 0.3596\n",
            "Epoch 15/500\n",
            "85/85 [==============================] - 0s 3ms/step - loss: 0.1079 - val_loss: 0.3533\n",
            "Epoch 16/500\n",
            "85/85 [==============================] - 0s 3ms/step - loss: 0.1005 - val_loss: 0.3823\n",
            "Epoch 17/500\n",
            "85/85 [==============================] - 0s 3ms/step - loss: 0.0970 - val_loss: 0.3494\n",
            "Epoch 18/500\n",
            "85/85 [==============================] - 0s 3ms/step - loss: 0.0948 - val_loss: 0.4341\n",
            "Epoch 19/500\n",
            "85/85 [==============================] - 0s 3ms/step - loss: 0.0919 - val_loss: 0.3939\n",
            "Epoch 20/500\n",
            "85/85 [==============================] - 0s 3ms/step - loss: 0.0880 - val_loss: 0.3896\n",
            "Epoch 21/500\n",
            "85/85 [==============================] - 0s 3ms/step - loss: 0.0827 - val_loss: 0.3665\n",
            "Epoch 22/500\n",
            "85/85 [==============================] - 0s 3ms/step - loss: 0.0791 - val_loss: 0.3826\n",
            "Epoch 23/500\n",
            "85/85 [==============================] - 0s 3ms/step - loss: 0.0788 - val_loss: 0.3245\n",
            "Epoch 24/500\n",
            "85/85 [==============================] - 0s 3ms/step - loss: 0.0784 - val_loss: 0.3861\n",
            "Epoch 25/500\n",
            "85/85 [==============================] - 0s 3ms/step - loss: 0.0782 - val_loss: 0.3510\n",
            "Epoch 26/500\n",
            "85/85 [==============================] - 0s 3ms/step - loss: 0.0759 - val_loss: 0.3702\n",
            "Epoch 26: early stopping\n"
          ]
        },
        {
          "output_type": "display_data",
          "data": {
            "text/plain": [
              "<IPython.core.display.Javascript object>"
            ],
            "application/javascript": [
              "\n",
              "    async function download(id, filename, size) {\n",
              "      if (!google.colab.kernel.accessAllowed) {\n",
              "        return;\n",
              "      }\n",
              "      const div = document.createElement('div');\n",
              "      const label = document.createElement('label');\n",
              "      label.textContent = `Downloading \"${filename}\": `;\n",
              "      div.appendChild(label);\n",
              "      const progress = document.createElement('progress');\n",
              "      progress.max = size;\n",
              "      div.appendChild(progress);\n",
              "      document.body.appendChild(div);\n",
              "\n",
              "      const buffers = [];\n",
              "      let downloaded = 0;\n",
              "\n",
              "      const channel = await google.colab.kernel.comms.open(id);\n",
              "      // Send a message to notify the kernel that we're ready.\n",
              "      channel.send({})\n",
              "\n",
              "      for await (const message of channel.messages) {\n",
              "        // Send a message to notify the kernel that we're ready.\n",
              "        channel.send({})\n",
              "        if (message.buffers) {\n",
              "          for (const buffer of message.buffers) {\n",
              "            buffers.push(buffer);\n",
              "            downloaded += buffer.byteLength;\n",
              "            progress.value = downloaded;\n",
              "          }\n",
              "        }\n",
              "      }\n",
              "      const blob = new Blob(buffers, {type: 'application/binary'});\n",
              "      const a = document.createElement('a');\n",
              "      a.href = window.URL.createObjectURL(blob);\n",
              "      a.download = filename;\n",
              "      div.appendChild(a);\n",
              "      a.click();\n",
              "      div.remove();\n",
              "    }\n",
              "  "
            ]
          },
          "metadata": {}
        },
        {
          "output_type": "display_data",
          "data": {
            "text/plain": [
              "<IPython.core.display.Javascript object>"
            ],
            "application/javascript": [
              "download(\"download_b58cbdd5-743f-4b90-bcfd-213fbd423631\", \"model15.h5\", 4281872)"
            ]
          },
          "metadata": {}
        }
      ]
    },
    {
      "cell_type": "code",
      "source": [
        "#test_pred11 = test_pred11.reshape((-1,))\n",
        "#test_pred12 = test_pred12.reshape((-1,))\n",
        "#test_pred13 = test_pred13.reshape((-1,))\n",
        "#test_pred14 = test_pred14.reshape((-1,))\n",
        "#test_pred15 = test_pred15.reshape((-1,))\n",
        "\n",
        "test_pred1 = np.vstack((test_pred11, test_pred12, test_pred13, test_pred14, test_pred15)).T\n",
        "\n",
        "xs = np.linspace(0,test_pred1.shape[0],test_ecog1.shape[0])\n",
        "\n",
        "#interpolation\n",
        "y1 = np.empty_like(test_pred1[:,0]) \n",
        "cs1 = [] \n",
        "for i in range(test_pred1.shape[1]):\n",
        "  x1 = np.arange(test_pred1.shape[0])\n",
        "  y1 = test_pred1[:,i]\n",
        "  cs1.append(CubicSpline(x1, y1, bc_type = 'clamped'))\n",
        "\n",
        "interp_pred1_nn = np.vstack((cs1[0](xs),cs1[1](xs), cs1[2](xs), cs1[3](xs), cs1[4](xs))).T"
      ],
      "metadata": {
        "id": "aP7jMVWy4JsJ"
      },
      "execution_count": null,
      "outputs": []
    },
    {
      "cell_type": "markdown",
      "source": [
        "## subject 2"
      ],
      "metadata": {
        "id": "qfL8V8xb4PiL"
      }
    },
    {
      "cell_type": "code",
      "source": [
        "#-----------Subject 2-------------\n",
        "\n",
        "#scaling (normalizing) the data\n",
        "scaler2 = StandardScaler()\n",
        "R2_train = scaler2.fit_transform(R2_train)\n",
        "\n",
        "scaler_filename = \"scaler2.save\"\n",
        "joblib.dump(scaler2, scaler_filename) \n",
        "\n",
        "R2_test = scaler2.transform(R2_test) "
      ],
      "metadata": {
        "id": "t32m_jf34RMN"
      },
      "execution_count": null,
      "outputs": []
    },
    {
      "cell_type": "code",
      "source": [
        "#creating the neural network architecture\n",
        "model = Sequential()\n",
        "model.add(Dense(128, input_dim = R2_train.shape[1], activation = 'relu'))\n",
        "model.add(Dense(256, activation = 'relu'))\n",
        "model.add(Dense(256, activation = 'relu'))\n",
        "model.add(Dense(256, activation = 'relu'))\n",
        "model.add(Dense(1, activation = 'linear'))\n",
        "\n",
        "#choosing optimizer and loss\n",
        "model.compile(optimizer = 'adam', loss = 'mean_absolute_error')\n",
        "\n",
        "#early stopping\n",
        "early_stop = EarlyStopping(monitor = 'val_loss', mode = 'min', verbose=1, patience = 25)"
      ],
      "metadata": {
        "id": "Hs58pqt94nQB"
      },
      "execution_count": null,
      "outputs": []
    },
    {
      "cell_type": "code",
      "source": [
        "#finger 1\n",
        "\n",
        "#model.fit with early stopping\n",
        "model.fit(R2_train, y_train_2[:,0], epochs = 500, batch_size = 32, verbose = 1, validation_split = 0.1, callbacks = [early_stop])\n",
        "model.save('model21.h5')\n",
        "files.download('model21.h5')\n",
        "#predictions\n",
        "test_pred21 = model.predict(R2_test)"
      ],
      "metadata": {
        "colab": {
          "base_uri": "https://localhost:8080/",
          "height": 972
        },
        "id": "h-L92yfW4qoL",
        "outputId": "22dad71f-b3d5-4fdb-95f1-ff435bc2cda1"
      },
      "execution_count": null,
      "outputs": [
        {
          "output_type": "stream",
          "name": "stdout",
          "text": [
            "Epoch 1/500\n",
            "169/169 [==============================] - 1s 3ms/step - loss: 0.5021 - val_loss: 0.4248\n",
            "Epoch 2/500\n",
            "169/169 [==============================] - 0s 3ms/step - loss: 0.4353 - val_loss: 0.3962\n",
            "Epoch 3/500\n",
            "169/169 [==============================] - 0s 3ms/step - loss: 0.3763 - val_loss: 0.4179\n",
            "Epoch 4/500\n",
            "169/169 [==============================] - 0s 3ms/step - loss: 0.3296 - val_loss: 0.4289\n",
            "Epoch 5/500\n",
            "169/169 [==============================] - 0s 3ms/step - loss: 0.2771 - val_loss: 0.4356\n",
            "Epoch 6/500\n",
            "169/169 [==============================] - 0s 3ms/step - loss: 0.2518 - val_loss: 0.4303\n",
            "Epoch 7/500\n",
            "169/169 [==============================] - 0s 3ms/step - loss: 0.2216 - val_loss: 0.4335\n",
            "Epoch 8/500\n",
            "169/169 [==============================] - 0s 3ms/step - loss: 0.2051 - val_loss: 0.4481\n",
            "Epoch 9/500\n",
            "169/169 [==============================] - 0s 3ms/step - loss: 0.1817 - val_loss: 0.4481\n",
            "Epoch 10/500\n",
            "169/169 [==============================] - 0s 3ms/step - loss: 0.1728 - val_loss: 0.4689\n",
            "Epoch 11/500\n",
            "169/169 [==============================] - 0s 3ms/step - loss: 0.1587 - val_loss: 0.4510\n",
            "Epoch 12/500\n",
            "169/169 [==============================] - 0s 3ms/step - loss: 0.1451 - val_loss: 0.4494\n",
            "Epoch 13/500\n",
            "169/169 [==============================] - 0s 3ms/step - loss: 0.1367 - val_loss: 0.4413\n",
            "Epoch 14/500\n",
            "169/169 [==============================] - 0s 3ms/step - loss: 0.1327 - val_loss: 0.4771\n",
            "Epoch 15/500\n",
            "169/169 [==============================] - 0s 3ms/step - loss: 0.1225 - val_loss: 0.4515\n",
            "Epoch 16/500\n",
            "169/169 [==============================] - 0s 3ms/step - loss: 0.1175 - val_loss: 0.4326\n",
            "Epoch 17/500\n",
            "169/169 [==============================] - 0s 3ms/step - loss: 0.1107 - val_loss: 0.4574\n",
            "Epoch 18/500\n",
            "169/169 [==============================] - 0s 3ms/step - loss: 0.1038 - val_loss: 0.4594\n",
            "Epoch 19/500\n",
            "169/169 [==============================] - 0s 3ms/step - loss: 0.0996 - val_loss: 0.4588\n",
            "Epoch 20/500\n",
            "169/169 [==============================] - 0s 3ms/step - loss: 0.0944 - val_loss: 0.4405\n",
            "Epoch 21/500\n",
            "169/169 [==============================] - 0s 3ms/step - loss: 0.0913 - val_loss: 0.4621\n",
            "Epoch 22/500\n",
            "169/169 [==============================] - 0s 3ms/step - loss: 0.0876 - val_loss: 0.4538\n",
            "Epoch 23/500\n",
            "169/169 [==============================] - 0s 3ms/step - loss: 0.0912 - val_loss: 0.4787\n",
            "Epoch 24/500\n",
            "169/169 [==============================] - 0s 3ms/step - loss: 0.0857 - val_loss: 0.4581\n",
            "Epoch 25/500\n",
            "169/169 [==============================] - 0s 3ms/step - loss: 0.0838 - val_loss: 0.4474\n",
            "Epoch 26/500\n",
            "169/169 [==============================] - 0s 3ms/step - loss: 0.0791 - val_loss: 0.4627\n",
            "Epoch 27/500\n",
            "169/169 [==============================] - 0s 3ms/step - loss: 0.0796 - val_loss: 0.4500\n",
            "Epoch 27: early stopping\n"
          ]
        },
        {
          "output_type": "display_data",
          "data": {
            "text/plain": [
              "<IPython.core.display.Javascript object>"
            ],
            "application/javascript": [
              "\n",
              "    async function download(id, filename, size) {\n",
              "      if (!google.colab.kernel.accessAllowed) {\n",
              "        return;\n",
              "      }\n",
              "      const div = document.createElement('div');\n",
              "      const label = document.createElement('label');\n",
              "      label.textContent = `Downloading \"${filename}\": `;\n",
              "      div.appendChild(label);\n",
              "      const progress = document.createElement('progress');\n",
              "      progress.max = size;\n",
              "      div.appendChild(progress);\n",
              "      document.body.appendChild(div);\n",
              "\n",
              "      const buffers = [];\n",
              "      let downloaded = 0;\n",
              "\n",
              "      const channel = await google.colab.kernel.comms.open(id);\n",
              "      // Send a message to notify the kernel that we're ready.\n",
              "      channel.send({})\n",
              "\n",
              "      for await (const message of channel.messages) {\n",
              "        // Send a message to notify the kernel that we're ready.\n",
              "        channel.send({})\n",
              "        if (message.buffers) {\n",
              "          for (const buffer of message.buffers) {\n",
              "            buffers.push(buffer);\n",
              "            downloaded += buffer.byteLength;\n",
              "            progress.value = downloaded;\n",
              "          }\n",
              "        }\n",
              "      }\n",
              "      const blob = new Blob(buffers, {type: 'application/binary'});\n",
              "      const a = document.createElement('a');\n",
              "      a.href = window.URL.createObjectURL(blob);\n",
              "      a.download = filename;\n",
              "      div.appendChild(a);\n",
              "      a.click();\n",
              "      div.remove();\n",
              "    }\n",
              "  "
            ]
          },
          "metadata": {}
        },
        {
          "output_type": "display_data",
          "data": {
            "text/plain": [
              "<IPython.core.display.Javascript object>"
            ],
            "application/javascript": [
              "download(\"download_2fc8e7c5-2c42-4187-aa7f-70e1aaa3ed5d\", \"model21.h5\", 3728912)"
            ]
          },
          "metadata": {}
        }
      ]
    },
    {
      "cell_type": "code",
      "source": [
        "#finger 2\n",
        "\n",
        "#model.fit with early stopping\n",
        "model.fit(R2_train, y_train_2[:,1], epochs = 500, batch_size = 32, verbose = 1, validation_split = 0.1, callbacks = [early_stop])\n",
        "model.save('model22.h5')\n",
        "files.download('model22.h5')\n",
        "#predictions\n",
        "test_pred22 = model.predict(R2_test)"
      ],
      "metadata": {
        "colab": {
          "base_uri": "https://localhost:8080/",
          "height": 1000
        },
        "id": "OLNZVm1b4xSQ",
        "outputId": "5658b99c-4974-49e0-d89d-c65def5021a5"
      },
      "execution_count": null,
      "outputs": [
        {
          "output_type": "stream",
          "name": "stdout",
          "text": [
            "Epoch 1/500\n",
            "169/169 [==============================] - 0s 3ms/step - loss: 0.5754 - val_loss: 0.8235\n",
            "Epoch 2/500\n",
            "169/169 [==============================] - 0s 3ms/step - loss: 0.4938 - val_loss: 0.8390\n",
            "Epoch 3/500\n",
            "169/169 [==============================] - 0s 3ms/step - loss: 0.4380 - val_loss: 0.7907\n",
            "Epoch 4/500\n",
            "169/169 [==============================] - 0s 3ms/step - loss: 0.3841 - val_loss: 0.8103\n",
            "Epoch 5/500\n",
            "169/169 [==============================] - 0s 3ms/step - loss: 0.3319 - val_loss: 0.9260\n",
            "Epoch 6/500\n",
            "169/169 [==============================] - 0s 3ms/step - loss: 0.2951 - val_loss: 0.8688\n",
            "Epoch 7/500\n",
            "169/169 [==============================] - 0s 3ms/step - loss: 0.2397 - val_loss: 0.8693\n",
            "Epoch 8/500\n",
            "169/169 [==============================] - 0s 3ms/step - loss: 0.2193 - val_loss: 0.8769\n",
            "Epoch 9/500\n",
            "169/169 [==============================] - 0s 3ms/step - loss: 0.1974 - val_loss: 0.8695\n",
            "Epoch 10/500\n",
            "169/169 [==============================] - 0s 3ms/step - loss: 0.1744 - val_loss: 0.8733\n",
            "Epoch 11/500\n",
            "169/169 [==============================] - 0s 3ms/step - loss: 0.1589 - val_loss: 0.8788\n",
            "Epoch 12/500\n",
            "169/169 [==============================] - 0s 3ms/step - loss: 0.1479 - val_loss: 0.9070\n",
            "Epoch 13/500\n",
            "169/169 [==============================] - 0s 3ms/step - loss: 0.1354 - val_loss: 0.8966\n",
            "Epoch 14/500\n",
            "169/169 [==============================] - 0s 3ms/step - loss: 0.1296 - val_loss: 0.8694\n",
            "Epoch 15/500\n",
            "169/169 [==============================] - 0s 3ms/step - loss: 0.1227 - val_loss: 0.8611\n",
            "Epoch 16/500\n",
            "169/169 [==============================] - 0s 3ms/step - loss: 0.1193 - val_loss: 0.8830\n",
            "Epoch 17/500\n",
            "169/169 [==============================] - 0s 3ms/step - loss: 0.1122 - val_loss: 0.8843\n",
            "Epoch 18/500\n",
            "169/169 [==============================] - 0s 3ms/step - loss: 0.1054 - val_loss: 0.8726\n",
            "Epoch 19/500\n",
            "169/169 [==============================] - 0s 3ms/step - loss: 0.1080 - val_loss: 0.8741\n",
            "Epoch 20/500\n",
            "169/169 [==============================] - 0s 3ms/step - loss: 0.1024 - val_loss: 0.8616\n",
            "Epoch 21/500\n",
            "169/169 [==============================] - 0s 3ms/step - loss: 0.1006 - val_loss: 0.8854\n",
            "Epoch 22/500\n",
            "169/169 [==============================] - 0s 3ms/step - loss: 0.0986 - val_loss: 0.8622\n",
            "Epoch 23/500\n",
            "169/169 [==============================] - 0s 3ms/step - loss: 0.0940 - val_loss: 0.8764\n",
            "Epoch 24/500\n",
            "169/169 [==============================] - 0s 3ms/step - loss: 0.0936 - val_loss: 0.8807\n",
            "Epoch 25/500\n",
            "169/169 [==============================] - 0s 3ms/step - loss: 0.0907 - val_loss: 0.8680\n",
            "Epoch 26/500\n",
            "169/169 [==============================] - 0s 3ms/step - loss: 0.0885 - val_loss: 0.8787\n",
            "Epoch 27/500\n",
            "169/169 [==============================] - 0s 3ms/step - loss: 0.0894 - val_loss: 0.8851\n",
            "Epoch 28/500\n",
            "169/169 [==============================] - 0s 3ms/step - loss: 0.0881 - val_loss: 0.8787\n",
            "Epoch 28: early stopping\n"
          ]
        },
        {
          "output_type": "display_data",
          "data": {
            "text/plain": [
              "<IPython.core.display.Javascript object>"
            ],
            "application/javascript": [
              "\n",
              "    async function download(id, filename, size) {\n",
              "      if (!google.colab.kernel.accessAllowed) {\n",
              "        return;\n",
              "      }\n",
              "      const div = document.createElement('div');\n",
              "      const label = document.createElement('label');\n",
              "      label.textContent = `Downloading \"${filename}\": `;\n",
              "      div.appendChild(label);\n",
              "      const progress = document.createElement('progress');\n",
              "      progress.max = size;\n",
              "      div.appendChild(progress);\n",
              "      document.body.appendChild(div);\n",
              "\n",
              "      const buffers = [];\n",
              "      let downloaded = 0;\n",
              "\n",
              "      const channel = await google.colab.kernel.comms.open(id);\n",
              "      // Send a message to notify the kernel that we're ready.\n",
              "      channel.send({})\n",
              "\n",
              "      for await (const message of channel.messages) {\n",
              "        // Send a message to notify the kernel that we're ready.\n",
              "        channel.send({})\n",
              "        if (message.buffers) {\n",
              "          for (const buffer of message.buffers) {\n",
              "            buffers.push(buffer);\n",
              "            downloaded += buffer.byteLength;\n",
              "            progress.value = downloaded;\n",
              "          }\n",
              "        }\n",
              "      }\n",
              "      const blob = new Blob(buffers, {type: 'application/binary'});\n",
              "      const a = document.createElement('a');\n",
              "      a.href = window.URL.createObjectURL(blob);\n",
              "      a.download = filename;\n",
              "      div.appendChild(a);\n",
              "      a.click();\n",
              "      div.remove();\n",
              "    }\n",
              "  "
            ]
          },
          "metadata": {}
        },
        {
          "output_type": "display_data",
          "data": {
            "text/plain": [
              "<IPython.core.display.Javascript object>"
            ],
            "application/javascript": [
              "download(\"download_1411bfdc-e748-42a0-8274-4b97fdac1612\", \"model22.h5\", 3728912)"
            ]
          },
          "metadata": {}
        }
      ]
    },
    {
      "cell_type": "code",
      "source": [
        "#finger 3\n",
        "\n",
        "#model.fit with early stopping\n",
        "model.fit(R2_train, y_train_2[:,2], epochs = 500, batch_size = 64, verbose = 1, validation_split = 0.1, callbacks = [early_stop])\n",
        "model.save('model23.h5')\n",
        "files.download('model23.h5')\n",
        "#predictions\n",
        "test_pred23 = model.predict(R2_test)"
      ],
      "metadata": {
        "colab": {
          "base_uri": "https://localhost:8080/",
          "height": 937
        },
        "id": "1wTCzdoW48v6",
        "outputId": "df1cdf21-148b-4d01-bbad-98f6b219761b"
      },
      "execution_count": null,
      "outputs": [
        {
          "output_type": "stream",
          "name": "stdout",
          "text": [
            "Epoch 1/500\n",
            "85/85 [==============================] - 0s 3ms/step - loss: 0.6581 - val_loss: 0.2994\n",
            "Epoch 2/500\n",
            "85/85 [==============================] - 0s 3ms/step - loss: 0.5703 - val_loss: 0.3363\n",
            "Epoch 3/500\n",
            "85/85 [==============================] - 0s 3ms/step - loss: 0.5386 - val_loss: 0.3967\n",
            "Epoch 4/500\n",
            "85/85 [==============================] - 0s 3ms/step - loss: 0.4928 - val_loss: 0.5420\n",
            "Epoch 5/500\n",
            "85/85 [==============================] - 0s 3ms/step - loss: 0.4370 - val_loss: 0.5708\n",
            "Epoch 6/500\n",
            "85/85 [==============================] - 0s 3ms/step - loss: 0.3636 - val_loss: 0.5257\n",
            "Epoch 7/500\n",
            "85/85 [==============================] - 0s 3ms/step - loss: 0.3035 - val_loss: 0.6046\n",
            "Epoch 8/500\n",
            "85/85 [==============================] - 0s 3ms/step - loss: 0.2604 - val_loss: 0.5014\n",
            "Epoch 9/500\n",
            "85/85 [==============================] - 0s 3ms/step - loss: 0.2328 - val_loss: 0.5299\n",
            "Epoch 10/500\n",
            "85/85 [==============================] - 0s 3ms/step - loss: 0.1982 - val_loss: 0.6672\n",
            "Epoch 11/500\n",
            "85/85 [==============================] - 0s 3ms/step - loss: 0.1729 - val_loss: 0.6209\n",
            "Epoch 12/500\n",
            "85/85 [==============================] - 0s 3ms/step - loss: 0.1561 - val_loss: 0.6221\n",
            "Epoch 13/500\n",
            "85/85 [==============================] - 0s 3ms/step - loss: 0.1474 - val_loss: 0.6889\n",
            "Epoch 14/500\n",
            "85/85 [==============================] - 0s 3ms/step - loss: 0.1348 - val_loss: 0.6225\n",
            "Epoch 15/500\n",
            "85/85 [==============================] - 0s 3ms/step - loss: 0.1268 - val_loss: 0.6124\n",
            "Epoch 16/500\n",
            "85/85 [==============================] - 0s 3ms/step - loss: 0.1198 - val_loss: 0.7050\n",
            "Epoch 17/500\n",
            "85/85 [==============================] - 0s 3ms/step - loss: 0.1095 - val_loss: 0.6489\n",
            "Epoch 18/500\n",
            "85/85 [==============================] - 0s 3ms/step - loss: 0.1005 - val_loss: 0.5935\n",
            "Epoch 19/500\n",
            "85/85 [==============================] - 0s 3ms/step - loss: 0.0985 - val_loss: 0.6420\n",
            "Epoch 20/500\n",
            "85/85 [==============================] - 0s 3ms/step - loss: 0.0919 - val_loss: 0.6638\n",
            "Epoch 21/500\n",
            "85/85 [==============================] - 0s 3ms/step - loss: 0.0856 - val_loss: 0.6518\n",
            "Epoch 22/500\n",
            "85/85 [==============================] - 0s 3ms/step - loss: 0.0917 - val_loss: 0.6502\n",
            "Epoch 23/500\n",
            "85/85 [==============================] - 0s 3ms/step - loss: 0.0833 - val_loss: 0.6127\n",
            "Epoch 24/500\n",
            "85/85 [==============================] - 0s 3ms/step - loss: 0.0807 - val_loss: 0.6256\n",
            "Epoch 25/500\n",
            "85/85 [==============================] - 0s 3ms/step - loss: 0.0783 - val_loss: 0.6708\n",
            "Epoch 26/500\n",
            "85/85 [==============================] - 0s 3ms/step - loss: 0.0777 - val_loss: 0.6083\n",
            "Epoch 26: early stopping\n"
          ]
        },
        {
          "output_type": "display_data",
          "data": {
            "text/plain": [
              "<IPython.core.display.Javascript object>"
            ],
            "application/javascript": [
              "\n",
              "    async function download(id, filename, size) {\n",
              "      if (!google.colab.kernel.accessAllowed) {\n",
              "        return;\n",
              "      }\n",
              "      const div = document.createElement('div');\n",
              "      const label = document.createElement('label');\n",
              "      label.textContent = `Downloading \"${filename}\": `;\n",
              "      div.appendChild(label);\n",
              "      const progress = document.createElement('progress');\n",
              "      progress.max = size;\n",
              "      div.appendChild(progress);\n",
              "      document.body.appendChild(div);\n",
              "\n",
              "      const buffers = [];\n",
              "      let downloaded = 0;\n",
              "\n",
              "      const channel = await google.colab.kernel.comms.open(id);\n",
              "      // Send a message to notify the kernel that we're ready.\n",
              "      channel.send({})\n",
              "\n",
              "      for await (const message of channel.messages) {\n",
              "        // Send a message to notify the kernel that we're ready.\n",
              "        channel.send({})\n",
              "        if (message.buffers) {\n",
              "          for (const buffer of message.buffers) {\n",
              "            buffers.push(buffer);\n",
              "            downloaded += buffer.byteLength;\n",
              "            progress.value = downloaded;\n",
              "          }\n",
              "        }\n",
              "      }\n",
              "      const blob = new Blob(buffers, {type: 'application/binary'});\n",
              "      const a = document.createElement('a');\n",
              "      a.href = window.URL.createObjectURL(blob);\n",
              "      a.download = filename;\n",
              "      div.appendChild(a);\n",
              "      a.click();\n",
              "      div.remove();\n",
              "    }\n",
              "  "
            ]
          },
          "metadata": {}
        },
        {
          "output_type": "display_data",
          "data": {
            "text/plain": [
              "<IPython.core.display.Javascript object>"
            ],
            "application/javascript": [
              "download(\"download_43a5262d-17b0-48f9-a2d0-6728bbe2fc3a\", \"model23.h5\", 3728912)"
            ]
          },
          "metadata": {}
        }
      ]
    },
    {
      "cell_type": "code",
      "source": [
        "#finger 4\n",
        "\n",
        "#model.fit with early stopping\n",
        "model.fit(R2_train, y_train_2[:,3], epochs = 500, batch_size = 32, verbose = 1, validation_split = 0.1, callbacks = [early_stop])\n",
        "model.save('model24.h5')\n",
        "files.download('model24.h5')\n",
        "#predictions\n",
        "test_pred24 = model.predict(R2_test)"
      ],
      "metadata": {
        "colab": {
          "base_uri": "https://localhost:8080/",
          "height": 1000
        },
        "id": "zMotzL_e5B3S",
        "outputId": "7716ad8f-bcc2-48eb-8e87-fe1e8523d0bf"
      },
      "execution_count": null,
      "outputs": [
        {
          "output_type": "stream",
          "name": "stdout",
          "text": [
            "Epoch 1/500\n",
            "169/169 [==============================] - 0s 3ms/step - loss: 0.4697 - val_loss: 0.7682\n",
            "Epoch 2/500\n",
            "169/169 [==============================] - 0s 3ms/step - loss: 0.3806 - val_loss: 0.7296\n",
            "Epoch 3/500\n",
            "169/169 [==============================] - 0s 3ms/step - loss: 0.3179 - val_loss: 0.7010\n",
            "Epoch 4/500\n",
            "169/169 [==============================] - 0s 3ms/step - loss: 0.2759 - val_loss: 0.6894\n",
            "Epoch 5/500\n",
            "169/169 [==============================] - 0s 3ms/step - loss: 0.2416 - val_loss: 0.7088\n",
            "Epoch 6/500\n",
            "169/169 [==============================] - 0s 3ms/step - loss: 0.2171 - val_loss: 0.6932\n",
            "Epoch 7/500\n",
            "169/169 [==============================] - 0s 3ms/step - loss: 0.1937 - val_loss: 0.6859\n",
            "Epoch 8/500\n",
            "169/169 [==============================] - 0s 3ms/step - loss: 0.1700 - val_loss: 0.6854\n",
            "Epoch 9/500\n",
            "169/169 [==============================] - 0s 3ms/step - loss: 0.1516 - val_loss: 0.6773\n",
            "Epoch 10/500\n",
            "169/169 [==============================] - 0s 3ms/step - loss: 0.1401 - val_loss: 0.6871\n",
            "Epoch 11/500\n",
            "169/169 [==============================] - 0s 3ms/step - loss: 0.1312 - val_loss: 0.6732\n",
            "Epoch 12/500\n",
            "169/169 [==============================] - 0s 3ms/step - loss: 0.1165 - val_loss: 0.6708\n",
            "Epoch 13/500\n",
            "169/169 [==============================] - 0s 3ms/step - loss: 0.1120 - val_loss: 0.6550\n",
            "Epoch 14/500\n",
            "169/169 [==============================] - 0s 3ms/step - loss: 0.1065 - val_loss: 0.6653\n",
            "Epoch 15/500\n",
            "169/169 [==============================] - 0s 3ms/step - loss: 0.1022 - val_loss: 0.6822\n",
            "Epoch 16/500\n",
            "169/169 [==============================] - 0s 3ms/step - loss: 0.1018 - val_loss: 0.6649\n",
            "Epoch 17/500\n",
            "169/169 [==============================] - 0s 3ms/step - loss: 0.0937 - val_loss: 0.6809\n",
            "Epoch 18/500\n",
            "169/169 [==============================] - 0s 3ms/step - loss: 0.0921 - val_loss: 0.6647\n",
            "Epoch 19/500\n",
            "169/169 [==============================] - 0s 3ms/step - loss: 0.0867 - val_loss: 0.6492\n",
            "Epoch 20/500\n",
            "169/169 [==============================] - 0s 3ms/step - loss: 0.0914 - val_loss: 0.6550\n",
            "Epoch 21/500\n",
            "169/169 [==============================] - 0s 3ms/step - loss: 0.0844 - val_loss: 0.6501\n",
            "Epoch 22/500\n",
            "169/169 [==============================] - 0s 3ms/step - loss: 0.0816 - val_loss: 0.6561\n",
            "Epoch 23/500\n",
            "169/169 [==============================] - 0s 3ms/step - loss: 0.0805 - val_loss: 0.6785\n",
            "Epoch 24/500\n",
            "169/169 [==============================] - 0s 3ms/step - loss: 0.0787 - val_loss: 0.6730\n",
            "Epoch 25/500\n",
            "169/169 [==============================] - 0s 3ms/step - loss: 0.0799 - val_loss: 0.6670\n",
            "Epoch 26/500\n",
            "169/169 [==============================] - 0s 3ms/step - loss: 0.0759 - val_loss: 0.6675\n",
            "Epoch 27/500\n",
            "169/169 [==============================] - 0s 3ms/step - loss: 0.0781 - val_loss: 0.6699\n",
            "Epoch 28/500\n",
            "169/169 [==============================] - 0s 3ms/step - loss: 0.0757 - val_loss: 0.6610\n",
            "Epoch 29/500\n",
            "169/169 [==============================] - 0s 3ms/step - loss: 0.0762 - val_loss: 0.6755\n",
            "Epoch 30/500\n",
            "169/169 [==============================] - 0s 3ms/step - loss: 0.0747 - val_loss: 0.6582\n",
            "Epoch 31/500\n",
            "169/169 [==============================] - 0s 3ms/step - loss: 0.0717 - val_loss: 0.6797\n",
            "Epoch 32/500\n",
            "169/169 [==============================] - 0s 3ms/step - loss: 0.0724 - val_loss: 0.6725\n",
            "Epoch 33/500\n",
            "169/169 [==============================] - 0s 3ms/step - loss: 0.0730 - val_loss: 0.6707\n",
            "Epoch 34/500\n",
            "169/169 [==============================] - 0s 3ms/step - loss: 0.0696 - val_loss: 0.6582\n",
            "Epoch 35/500\n",
            "169/169 [==============================] - 0s 3ms/step - loss: 0.0672 - val_loss: 0.6706\n",
            "Epoch 36/500\n",
            "169/169 [==============================] - 0s 3ms/step - loss: 0.0703 - val_loss: 0.6667\n",
            "Epoch 37/500\n",
            "169/169 [==============================] - 0s 3ms/step - loss: 0.0677 - val_loss: 0.6495\n",
            "Epoch 38/500\n",
            "169/169 [==============================] - 0s 3ms/step - loss: 0.0663 - val_loss: 0.6707\n",
            "Epoch 39/500\n",
            "169/169 [==============================] - 0s 3ms/step - loss: 0.0672 - val_loss: 0.6711\n",
            "Epoch 40/500\n",
            "169/169 [==============================] - 0s 3ms/step - loss: 0.0665 - val_loss: 0.6659\n",
            "Epoch 41/500\n",
            "169/169 [==============================] - 0s 3ms/step - loss: 0.0671 - val_loss: 0.6473\n",
            "Epoch 42/500\n",
            "169/169 [==============================] - 0s 3ms/step - loss: 0.0626 - val_loss: 0.6680\n",
            "Epoch 43/500\n",
            "169/169 [==============================] - 0s 3ms/step - loss: 0.0675 - val_loss: 0.6726\n",
            "Epoch 44/500\n",
            "169/169 [==============================] - 0s 3ms/step - loss: 0.0642 - val_loss: 0.6603\n",
            "Epoch 45/500\n",
            "169/169 [==============================] - 0s 3ms/step - loss: 0.0602 - val_loss: 0.6795\n",
            "Epoch 46/500\n",
            "169/169 [==============================] - 0s 3ms/step - loss: 0.0641 - val_loss: 0.6642\n",
            "Epoch 47/500\n",
            "169/169 [==============================] - 0s 3ms/step - loss: 0.0637 - val_loss: 0.6671\n",
            "Epoch 48/500\n",
            "169/169 [==============================] - 0s 3ms/step - loss: 0.0622 - val_loss: 0.6696\n",
            "Epoch 49/500\n",
            "169/169 [==============================] - 0s 3ms/step - loss: 0.0625 - val_loss: 0.6641\n",
            "Epoch 50/500\n",
            "169/169 [==============================] - 0s 3ms/step - loss: 0.0640 - val_loss: 0.6623\n",
            "Epoch 51/500\n",
            "169/169 [==============================] - 0s 3ms/step - loss: 0.0584 - val_loss: 0.6573\n",
            "Epoch 52/500\n",
            "169/169 [==============================] - 0s 3ms/step - loss: 0.0609 - val_loss: 0.6612\n",
            "Epoch 53/500\n",
            "169/169 [==============================] - 0s 3ms/step - loss: 0.0602 - val_loss: 0.6494\n",
            "Epoch 54/500\n",
            "169/169 [==============================] - 0s 3ms/step - loss: 0.0596 - val_loss: 0.6717\n",
            "Epoch 55/500\n",
            "169/169 [==============================] - 0s 3ms/step - loss: 0.0597 - val_loss: 0.6561\n",
            "Epoch 56/500\n",
            "169/169 [==============================] - 0s 3ms/step - loss: 0.0611 - val_loss: 0.6774\n",
            "Epoch 57/500\n",
            "169/169 [==============================] - 0s 3ms/step - loss: 0.0576 - val_loss: 0.6618\n",
            "Epoch 58/500\n",
            "169/169 [==============================] - 0s 3ms/step - loss: 0.0568 - val_loss: 0.6769\n",
            "Epoch 59/500\n",
            "169/169 [==============================] - 0s 3ms/step - loss: 0.0558 - val_loss: 0.6792\n",
            "Epoch 60/500\n",
            "169/169 [==============================] - 0s 3ms/step - loss: 0.0580 - val_loss: 0.6692\n",
            "Epoch 61/500\n",
            "169/169 [==============================] - 0s 3ms/step - loss: 0.0577 - val_loss: 0.6793\n",
            "Epoch 62/500\n",
            "169/169 [==============================] - 0s 3ms/step - loss: 0.0573 - val_loss: 0.6662\n",
            "Epoch 63/500\n",
            "169/169 [==============================] - 0s 3ms/step - loss: 0.0562 - val_loss: 0.6630\n",
            "Epoch 64/500\n",
            "169/169 [==============================] - 0s 3ms/step - loss: 0.0583 - val_loss: 0.6751\n",
            "Epoch 65/500\n",
            "169/169 [==============================] - 0s 3ms/step - loss: 0.0546 - val_loss: 0.6586\n",
            "Epoch 66/500\n",
            "169/169 [==============================] - 0s 3ms/step - loss: 0.0547 - val_loss: 0.6702\n",
            "Epoch 66: early stopping\n"
          ]
        },
        {
          "output_type": "display_data",
          "data": {
            "text/plain": [
              "<IPython.core.display.Javascript object>"
            ],
            "application/javascript": [
              "\n",
              "    async function download(id, filename, size) {\n",
              "      if (!google.colab.kernel.accessAllowed) {\n",
              "        return;\n",
              "      }\n",
              "      const div = document.createElement('div');\n",
              "      const label = document.createElement('label');\n",
              "      label.textContent = `Downloading \"${filename}\": `;\n",
              "      div.appendChild(label);\n",
              "      const progress = document.createElement('progress');\n",
              "      progress.max = size;\n",
              "      div.appendChild(progress);\n",
              "      document.body.appendChild(div);\n",
              "\n",
              "      const buffers = [];\n",
              "      let downloaded = 0;\n",
              "\n",
              "      const channel = await google.colab.kernel.comms.open(id);\n",
              "      // Send a message to notify the kernel that we're ready.\n",
              "      channel.send({})\n",
              "\n",
              "      for await (const message of channel.messages) {\n",
              "        // Send a message to notify the kernel that we're ready.\n",
              "        channel.send({})\n",
              "        if (message.buffers) {\n",
              "          for (const buffer of message.buffers) {\n",
              "            buffers.push(buffer);\n",
              "            downloaded += buffer.byteLength;\n",
              "            progress.value = downloaded;\n",
              "          }\n",
              "        }\n",
              "      }\n",
              "      const blob = new Blob(buffers, {type: 'application/binary'});\n",
              "      const a = document.createElement('a');\n",
              "      a.href = window.URL.createObjectURL(blob);\n",
              "      a.download = filename;\n",
              "      div.appendChild(a);\n",
              "      a.click();\n",
              "      div.remove();\n",
              "    }\n",
              "  "
            ]
          },
          "metadata": {}
        },
        {
          "output_type": "display_data",
          "data": {
            "text/plain": [
              "<IPython.core.display.Javascript object>"
            ],
            "application/javascript": [
              "download(\"download_7ebad013-8fbd-41f1-9ba6-e5335b438ea7\", \"model24.h5\", 3728912)"
            ]
          },
          "metadata": {}
        }
      ]
    },
    {
      "cell_type": "code",
      "source": [
        "#finger 5\n",
        "\n",
        "#model.fit with early stopping\n",
        "model.fit(R2_train, y_train_2[:,4], epochs = 500, batch_size = 64, verbose = 1, validation_split = 0.1, callbacks = [early_stop])\n",
        "model.save('model25.h5')\n",
        "files.download('model25.h5')\n",
        "#predictions\n",
        "test_pred25 = model.predict(R2_test)"
      ],
      "metadata": {
        "colab": {
          "base_uri": "https://localhost:8080/",
          "height": 1000
        },
        "id": "uYNKCX7T5GGr",
        "outputId": "bf7cbbd8-cb89-4995-f44d-39dbc6597417"
      },
      "execution_count": null,
      "outputs": [
        {
          "output_type": "stream",
          "name": "stdout",
          "text": [
            "Epoch 1/500\n",
            "85/85 [==============================] - 0s 3ms/step - loss: 0.4382 - val_loss: 0.7756\n",
            "Epoch 2/500\n",
            "85/85 [==============================] - 0s 3ms/step - loss: 0.3158 - val_loss: 0.7444\n",
            "Epoch 3/500\n",
            "85/85 [==============================] - 0s 3ms/step - loss: 0.2341 - val_loss: 0.7463\n",
            "Epoch 4/500\n",
            "85/85 [==============================] - 0s 3ms/step - loss: 0.1893 - val_loss: 0.7353\n",
            "Epoch 5/500\n",
            "85/85 [==============================] - 0s 3ms/step - loss: 0.1547 - val_loss: 0.7401\n",
            "Epoch 6/500\n",
            "85/85 [==============================] - 0s 3ms/step - loss: 0.1331 - val_loss: 0.7402\n",
            "Epoch 7/500\n",
            "85/85 [==============================] - 0s 3ms/step - loss: 0.1158 - val_loss: 0.7411\n",
            "Epoch 8/500\n",
            "85/85 [==============================] - 0s 3ms/step - loss: 0.1068 - val_loss: 0.7440\n",
            "Epoch 9/500\n",
            "85/85 [==============================] - 0s 3ms/step - loss: 0.0983 - val_loss: 0.7513\n",
            "Epoch 10/500\n",
            "85/85 [==============================] - 0s 3ms/step - loss: 0.0852 - val_loss: 0.7502\n",
            "Epoch 11/500\n",
            "85/85 [==============================] - 0s 3ms/step - loss: 0.0824 - val_loss: 0.7485\n",
            "Epoch 12/500\n",
            "85/85 [==============================] - 0s 3ms/step - loss: 0.0759 - val_loss: 0.7522\n",
            "Epoch 13/500\n",
            "85/85 [==============================] - 0s 3ms/step - loss: 0.0723 - val_loss: 0.7601\n",
            "Epoch 14/500\n",
            "85/85 [==============================] - 0s 3ms/step - loss: 0.0687 - val_loss: 0.7499\n",
            "Epoch 15/500\n",
            "85/85 [==============================] - 0s 3ms/step - loss: 0.0645 - val_loss: 0.7515\n",
            "Epoch 16/500\n",
            "85/85 [==============================] - 0s 3ms/step - loss: 0.0606 - val_loss: 0.7472\n",
            "Epoch 17/500\n",
            "85/85 [==============================] - 0s 3ms/step - loss: 0.0610 - val_loss: 0.7611\n",
            "Epoch 18/500\n",
            "85/85 [==============================] - 0s 3ms/step - loss: 0.0581 - val_loss: 0.7632\n",
            "Epoch 19/500\n",
            "85/85 [==============================] - 0s 3ms/step - loss: 0.0577 - val_loss: 0.7453\n",
            "Epoch 20/500\n",
            "85/85 [==============================] - 0s 3ms/step - loss: 0.0546 - val_loss: 0.7633\n",
            "Epoch 21/500\n",
            "85/85 [==============================] - 0s 3ms/step - loss: 0.0541 - val_loss: 0.7484\n",
            "Epoch 22/500\n",
            "85/85 [==============================] - 0s 3ms/step - loss: 0.0512 - val_loss: 0.7495\n",
            "Epoch 23/500\n",
            "85/85 [==============================] - 0s 3ms/step - loss: 0.0509 - val_loss: 0.7431\n",
            "Epoch 24/500\n",
            "85/85 [==============================] - 0s 3ms/step - loss: 0.0488 - val_loss: 0.7487\n",
            "Epoch 25/500\n",
            "85/85 [==============================] - 0s 3ms/step - loss: 0.0503 - val_loss: 0.7591\n",
            "Epoch 26/500\n",
            "85/85 [==============================] - 0s 3ms/step - loss: 0.0493 - val_loss: 0.7437\n",
            "Epoch 27/500\n",
            "85/85 [==============================] - 0s 3ms/step - loss: 0.0469 - val_loss: 0.7467\n",
            "Epoch 28/500\n",
            "85/85 [==============================] - 0s 3ms/step - loss: 0.0456 - val_loss: 0.7532\n",
            "Epoch 29/500\n",
            "85/85 [==============================] - 0s 3ms/step - loss: 0.0450 - val_loss: 0.7516\n",
            "Epoch 29: early stopping\n"
          ]
        },
        {
          "output_type": "display_data",
          "data": {
            "text/plain": [
              "<IPython.core.display.Javascript object>"
            ],
            "application/javascript": [
              "\n",
              "    async function download(id, filename, size) {\n",
              "      if (!google.colab.kernel.accessAllowed) {\n",
              "        return;\n",
              "      }\n",
              "      const div = document.createElement('div');\n",
              "      const label = document.createElement('label');\n",
              "      label.textContent = `Downloading \"${filename}\": `;\n",
              "      div.appendChild(label);\n",
              "      const progress = document.createElement('progress');\n",
              "      progress.max = size;\n",
              "      div.appendChild(progress);\n",
              "      document.body.appendChild(div);\n",
              "\n",
              "      const buffers = [];\n",
              "      let downloaded = 0;\n",
              "\n",
              "      const channel = await google.colab.kernel.comms.open(id);\n",
              "      // Send a message to notify the kernel that we're ready.\n",
              "      channel.send({})\n",
              "\n",
              "      for await (const message of channel.messages) {\n",
              "        // Send a message to notify the kernel that we're ready.\n",
              "        channel.send({})\n",
              "        if (message.buffers) {\n",
              "          for (const buffer of message.buffers) {\n",
              "            buffers.push(buffer);\n",
              "            downloaded += buffer.byteLength;\n",
              "            progress.value = downloaded;\n",
              "          }\n",
              "        }\n",
              "      }\n",
              "      const blob = new Blob(buffers, {type: 'application/binary'});\n",
              "      const a = document.createElement('a');\n",
              "      a.href = window.URL.createObjectURL(blob);\n",
              "      a.download = filename;\n",
              "      div.appendChild(a);\n",
              "      a.click();\n",
              "      div.remove();\n",
              "    }\n",
              "  "
            ]
          },
          "metadata": {}
        },
        {
          "output_type": "display_data",
          "data": {
            "text/plain": [
              "<IPython.core.display.Javascript object>"
            ],
            "application/javascript": [
              "download(\"download_5474c964-ce41-44cc-a791-dcc84ff67db1\", \"model25.h5\", 3728912)"
            ]
          },
          "metadata": {}
        }
      ]
    },
    {
      "cell_type": "code",
      "source": [
        "#test_pred21 = test_pred21.reshape((-1,))\n",
        "#test_pred22 = test_pred22.reshape((-1,))\n",
        "#test_pred23 = test_pred23.reshape((-1,))\n",
        "#test_pred24 = test_pred24.reshape((-1,))\n",
        "#test_pred25 = test_pred25.reshape((-1,))\n",
        "\n",
        "test_pred2 = np.vstack((test_pred21, test_pred22, test_pred23, test_pred24, test_pred25)).T\n",
        "\n",
        "#interpolation\n",
        "y2 = np.empty_like(test_pred2[:,0]) \n",
        "cs2 = [] \n",
        "for i in range(test_pred2.shape[1]):\n",
        "  x2 = np.arange(test_pred2.shape[0])\n",
        "  y2 = test_pred2[:,i]\n",
        "  cs2.append(CubicSpline(x2, y2, bc_type = 'clamped'))\n",
        "\n",
        "interp_pred2_nn = np.vstack((cs2[0](xs),cs2[1](xs), cs2[2](xs), cs2[3](xs), cs2[4](xs))).T"
      ],
      "metadata": {
        "id": "HBL4k_eS5Lam"
      },
      "execution_count": null,
      "outputs": []
    },
    {
      "cell_type": "markdown",
      "source": [
        "## subject 3"
      ],
      "metadata": {
        "id": "aAd708Pe5SnA"
      }
    },
    {
      "cell_type": "code",
      "source": [
        "#-----------Subject 3-------------\n",
        "\n",
        "#scaling (normalizing) the data\n",
        "scaler3 = StandardScaler()\n",
        "R3_train = scaler3.fit_transform(R3_train)\n",
        "\n",
        "scaler_filename = \"scaler3.save\"\n",
        "joblib.dump(scaler3, scaler_filename) \n",
        "\n",
        "R3_test = scaler3.transform(R3_test) "
      ],
      "metadata": {
        "id": "XJ_lWyhY5R7x"
      },
      "execution_count": null,
      "outputs": []
    },
    {
      "cell_type": "code",
      "source": [
        "#creating the neural network architecture\n",
        "model = Sequential()\n",
        "model.add(Dense(128, input_dim = R3_train.shape[1], activation = 'relu'))\n",
        "model.add(Dense(256, activation = 'relu'))\n",
        "model.add(Dense(256, activation = 'relu'))\n",
        "model.add(Dense(256, activation = 'relu'))\n",
        "model.add(Dense(1, activation = 'linear'))\n",
        "\n",
        "#choosing optimizer and loss\n",
        "model.compile(optimizer = 'adam', loss = 'mean_absolute_error')\n",
        "\n",
        "#early stopping\n",
        "early_stop = EarlyStopping(monitor = 'val_loss', mode = 'min', verbose=1, patience = 25)"
      ],
      "metadata": {
        "id": "QrOyCsyz5cSY"
      },
      "execution_count": null,
      "outputs": []
    },
    {
      "cell_type": "code",
      "source": [
        "#finger 1\n",
        "\n",
        "#model.fit with early stopping\n",
        "model.fit(R3_train, y_train_3[:,0], epochs = 500, batch_size = 32, verbose = 1, validation_split = 0.1, callbacks = [early_stop])\n",
        "model.save('model31.h5')\n",
        "files.download('model31.h5')\n",
        "#predictions\n",
        "test_pred31 = model.predict(R3_test)"
      ],
      "metadata": {
        "colab": {
          "base_uri": "https://localhost:8080/",
          "height": 1000
        },
        "id": "uqmkjjG75dfe",
        "outputId": "e9736cd3-c951-49c0-f373-581a1475ee86"
      },
      "execution_count": null,
      "outputs": [
        {
          "output_type": "stream",
          "name": "stdout",
          "text": [
            "Epoch 1/500\n",
            "169/169 [==============================] - 1s 3ms/step - loss: 0.6037 - val_loss: 0.3487\n",
            "Epoch 2/500\n",
            "169/169 [==============================] - 0s 3ms/step - loss: 0.4105 - val_loss: 0.3799\n",
            "Epoch 3/500\n",
            "169/169 [==============================] - 0s 3ms/step - loss: 0.3084 - val_loss: 0.2913\n",
            "Epoch 4/500\n",
            "169/169 [==============================] - 0s 3ms/step - loss: 0.2470 - val_loss: 0.3208\n",
            "Epoch 5/500\n",
            "169/169 [==============================] - 0s 3ms/step - loss: 0.2034 - val_loss: 0.3236\n",
            "Epoch 6/500\n",
            "169/169 [==============================] - 0s 3ms/step - loss: 0.1827 - val_loss: 0.3127\n",
            "Epoch 7/500\n",
            "169/169 [==============================] - 0s 3ms/step - loss: 0.1602 - val_loss: 0.3111\n",
            "Epoch 8/500\n",
            "169/169 [==============================] - 0s 3ms/step - loss: 0.1488 - val_loss: 0.3251\n",
            "Epoch 9/500\n",
            "169/169 [==============================] - 0s 3ms/step - loss: 0.1333 - val_loss: 0.3057\n",
            "Epoch 10/500\n",
            "169/169 [==============================] - 0s 3ms/step - loss: 0.1272 - val_loss: 0.3410\n",
            "Epoch 11/500\n",
            "169/169 [==============================] - 0s 3ms/step - loss: 0.1180 - val_loss: 0.3152\n",
            "Epoch 12/500\n",
            "169/169 [==============================] - 0s 3ms/step - loss: 0.1114 - val_loss: 0.3331\n",
            "Epoch 13/500\n",
            "169/169 [==============================] - 0s 3ms/step - loss: 0.1056 - val_loss: 0.3291\n",
            "Epoch 14/500\n",
            "169/169 [==============================] - 0s 3ms/step - loss: 0.1004 - val_loss: 0.3019\n",
            "Epoch 15/500\n",
            "169/169 [==============================] - 0s 3ms/step - loss: 0.0967 - val_loss: 0.3590\n",
            "Epoch 16/500\n",
            "169/169 [==============================] - 0s 3ms/step - loss: 0.0958 - val_loss: 0.3204\n",
            "Epoch 17/500\n",
            "169/169 [==============================] - 0s 3ms/step - loss: 0.0950 - val_loss: 0.3225\n",
            "Epoch 18/500\n",
            "169/169 [==============================] - 0s 3ms/step - loss: 0.0878 - val_loss: 0.3178\n",
            "Epoch 19/500\n",
            "169/169 [==============================] - 0s 3ms/step - loss: 0.0818 - val_loss: 0.3694\n",
            "Epoch 20/500\n",
            "169/169 [==============================] - 0s 3ms/step - loss: 0.0784 - val_loss: 0.3274\n",
            "Epoch 21/500\n",
            "169/169 [==============================] - 0s 3ms/step - loss: 0.0769 - val_loss: 0.3581\n",
            "Epoch 22/500\n",
            "169/169 [==============================] - 0s 3ms/step - loss: 0.0798 - val_loss: 0.3517\n",
            "Epoch 23/500\n",
            "169/169 [==============================] - 0s 3ms/step - loss: 0.0747 - val_loss: 0.3521\n",
            "Epoch 24/500\n",
            "169/169 [==============================] - 0s 3ms/step - loss: 0.0730 - val_loss: 0.3274\n",
            "Epoch 25/500\n",
            "169/169 [==============================] - 0s 3ms/step - loss: 0.0687 - val_loss: 0.3336\n",
            "Epoch 26/500\n",
            "169/169 [==============================] - 0s 3ms/step - loss: 0.0658 - val_loss: 0.3290\n",
            "Epoch 27/500\n",
            "169/169 [==============================] - 0s 3ms/step - loss: 0.0662 - val_loss: 0.3150\n",
            "Epoch 28/500\n",
            "169/169 [==============================] - 0s 3ms/step - loss: 0.0628 - val_loss: 0.3279\n",
            "Epoch 28: early stopping\n"
          ]
        },
        {
          "output_type": "display_data",
          "data": {
            "text/plain": [
              "<IPython.core.display.Javascript object>"
            ],
            "application/javascript": [
              "\n",
              "    async function download(id, filename, size) {\n",
              "      if (!google.colab.kernel.accessAllowed) {\n",
              "        return;\n",
              "      }\n",
              "      const div = document.createElement('div');\n",
              "      const label = document.createElement('label');\n",
              "      label.textContent = `Downloading \"${filename}\": `;\n",
              "      div.appendChild(label);\n",
              "      const progress = document.createElement('progress');\n",
              "      progress.max = size;\n",
              "      div.appendChild(progress);\n",
              "      document.body.appendChild(div);\n",
              "\n",
              "      const buffers = [];\n",
              "      let downloaded = 0;\n",
              "\n",
              "      const channel = await google.colab.kernel.comms.open(id);\n",
              "      // Send a message to notify the kernel that we're ready.\n",
              "      channel.send({})\n",
              "\n",
              "      for await (const message of channel.messages) {\n",
              "        // Send a message to notify the kernel that we're ready.\n",
              "        channel.send({})\n",
              "        if (message.buffers) {\n",
              "          for (const buffer of message.buffers) {\n",
              "            buffers.push(buffer);\n",
              "            downloaded += buffer.byteLength;\n",
              "            progress.value = downloaded;\n",
              "          }\n",
              "        }\n",
              "      }\n",
              "      const blob = new Blob(buffers, {type: 'application/binary'});\n",
              "      const a = document.createElement('a');\n",
              "      a.href = window.URL.createObjectURL(blob);\n",
              "      a.download = filename;\n",
              "      div.appendChild(a);\n",
              "      a.click();\n",
              "      div.remove();\n",
              "    }\n",
              "  "
            ]
          },
          "metadata": {}
        },
        {
          "output_type": "display_data",
          "data": {
            "text/plain": [
              "<IPython.core.display.Javascript object>"
            ],
            "application/javascript": [
              "download(\"download_cd6f39b2-41df-42c1-82ba-1290cd1e5c33\", \"model31.h5\", 4392656)"
            ]
          },
          "metadata": {}
        }
      ]
    },
    {
      "cell_type": "code",
      "source": [
        "#finger 2\n",
        "\n",
        "#model.fit with early stopping\n",
        "model.fit(R3_train, y_train_3[:,1], epochs = 500, batch_size = 32, verbose = 1, validation_split = 0.1, callbacks = [early_stop])\n",
        "model.save('model32.h5')\n",
        "files.download('model32.h5')\n",
        "#predictions\n",
        "test_pred32 = model.predict(R3_test)"
      ],
      "metadata": {
        "colab": {
          "base_uri": "https://localhost:8080/",
          "height": 937
        },
        "id": "fMp07Gzk5vtc",
        "outputId": "18afb7ec-93ca-46f2-e27d-b29e40519e80"
      },
      "execution_count": null,
      "outputs": [
        {
          "output_type": "stream",
          "name": "stdout",
          "text": [
            "Epoch 1/500\n",
            "169/169 [==============================] - 1s 3ms/step - loss: 0.6983 - val_loss: 0.3657\n",
            "Epoch 2/500\n",
            "169/169 [==============================] - 0s 3ms/step - loss: 0.4478 - val_loss: 0.4175\n",
            "Epoch 3/500\n",
            "169/169 [==============================] - 0s 3ms/step - loss: 0.3353 - val_loss: 0.3964\n",
            "Epoch 4/500\n",
            "169/169 [==============================] - 0s 3ms/step - loss: 0.2707 - val_loss: 0.4354\n",
            "Epoch 5/500\n",
            "169/169 [==============================] - 0s 3ms/step - loss: 0.2278 - val_loss: 0.4444\n",
            "Epoch 6/500\n",
            "169/169 [==============================] - 0s 3ms/step - loss: 0.1908 - val_loss: 0.4230\n",
            "Epoch 7/500\n",
            "169/169 [==============================] - 0s 3ms/step - loss: 0.1723 - val_loss: 0.4337\n",
            "Epoch 8/500\n",
            "169/169 [==============================] - 0s 3ms/step - loss: 0.1572 - val_loss: 0.4740\n",
            "Epoch 9/500\n",
            "169/169 [==============================] - 0s 3ms/step - loss: 0.1416 - val_loss: 0.4584\n",
            "Epoch 10/500\n",
            "169/169 [==============================] - 0s 3ms/step - loss: 0.1317 - val_loss: 0.4797\n",
            "Epoch 11/500\n",
            "169/169 [==============================] - 0s 3ms/step - loss: 0.1274 - val_loss: 0.4775\n",
            "Epoch 12/500\n",
            "169/169 [==============================] - 0s 3ms/step - loss: 0.1125 - val_loss: 0.4984\n",
            "Epoch 13/500\n",
            "169/169 [==============================] - 0s 3ms/step - loss: 0.1121 - val_loss: 0.4396\n",
            "Epoch 14/500\n",
            "169/169 [==============================] - 0s 3ms/step - loss: 0.1057 - val_loss: 0.4973\n",
            "Epoch 15/500\n",
            "169/169 [==============================] - 0s 3ms/step - loss: 0.1016 - val_loss: 0.4666\n",
            "Epoch 16/500\n",
            "169/169 [==============================] - 0s 3ms/step - loss: 0.1015 - val_loss: 0.4708\n",
            "Epoch 17/500\n",
            "169/169 [==============================] - 0s 3ms/step - loss: 0.0981 - val_loss: 0.4701\n",
            "Epoch 18/500\n",
            "169/169 [==============================] - 0s 3ms/step - loss: 0.0914 - val_loss: 0.4762\n",
            "Epoch 19/500\n",
            "169/169 [==============================] - 0s 3ms/step - loss: 0.0910 - val_loss: 0.4822\n",
            "Epoch 20/500\n",
            "169/169 [==============================] - 0s 3ms/step - loss: 0.0891 - val_loss: 0.4421\n",
            "Epoch 21/500\n",
            "169/169 [==============================] - 0s 3ms/step - loss: 0.0869 - val_loss: 0.4620\n",
            "Epoch 22/500\n",
            "169/169 [==============================] - 0s 3ms/step - loss: 0.0864 - val_loss: 0.4781\n",
            "Epoch 23/500\n",
            "169/169 [==============================] - 0s 3ms/step - loss: 0.0825 - val_loss: 0.4585\n",
            "Epoch 24/500\n",
            "169/169 [==============================] - 0s 3ms/step - loss: 0.0824 - val_loss: 0.4955\n",
            "Epoch 25/500\n",
            "169/169 [==============================] - 0s 3ms/step - loss: 0.0810 - val_loss: 0.4687\n",
            "Epoch 26/500\n",
            "169/169 [==============================] - 0s 3ms/step - loss: 0.0785 - val_loss: 0.4588\n",
            "Epoch 26: early stopping\n"
          ]
        },
        {
          "output_type": "display_data",
          "data": {
            "text/plain": [
              "<IPython.core.display.Javascript object>"
            ],
            "application/javascript": [
              "\n",
              "    async function download(id, filename, size) {\n",
              "      if (!google.colab.kernel.accessAllowed) {\n",
              "        return;\n",
              "      }\n",
              "      const div = document.createElement('div');\n",
              "      const label = document.createElement('label');\n",
              "      label.textContent = `Downloading \"${filename}\": `;\n",
              "      div.appendChild(label);\n",
              "      const progress = document.createElement('progress');\n",
              "      progress.max = size;\n",
              "      div.appendChild(progress);\n",
              "      document.body.appendChild(div);\n",
              "\n",
              "      const buffers = [];\n",
              "      let downloaded = 0;\n",
              "\n",
              "      const channel = await google.colab.kernel.comms.open(id);\n",
              "      // Send a message to notify the kernel that we're ready.\n",
              "      channel.send({})\n",
              "\n",
              "      for await (const message of channel.messages) {\n",
              "        // Send a message to notify the kernel that we're ready.\n",
              "        channel.send({})\n",
              "        if (message.buffers) {\n",
              "          for (const buffer of message.buffers) {\n",
              "            buffers.push(buffer);\n",
              "            downloaded += buffer.byteLength;\n",
              "            progress.value = downloaded;\n",
              "          }\n",
              "        }\n",
              "      }\n",
              "      const blob = new Blob(buffers, {type: 'application/binary'});\n",
              "      const a = document.createElement('a');\n",
              "      a.href = window.URL.createObjectURL(blob);\n",
              "      a.download = filename;\n",
              "      div.appendChild(a);\n",
              "      a.click();\n",
              "      div.remove();\n",
              "    }\n",
              "  "
            ]
          },
          "metadata": {}
        },
        {
          "output_type": "display_data",
          "data": {
            "text/plain": [
              "<IPython.core.display.Javascript object>"
            ],
            "application/javascript": [
              "download(\"download_2c3ba70d-7dcf-42f0-b298-fe1b0aa5ecbe\", \"model32.h5\", 4392656)"
            ]
          },
          "metadata": {}
        }
      ]
    },
    {
      "cell_type": "code",
      "source": [
        "#finger 3\n",
        "\n",
        "#model.fit with early stopping\n",
        "model.fit(R3_train, y_train_3[:,2], epochs = 500, batch_size = 32, verbose = 1, validation_split = 0.1, callbacks = [early_stop])\n",
        "model.save('model33.h5')\n",
        "files.download('model33.h5')\n",
        "#predictions\n",
        "test_pred33 = model.predict(R3_test)"
      ],
      "metadata": {
        "colab": {
          "base_uri": "https://localhost:8080/",
          "height": 1000
        },
        "id": "gfdXYlDJ53eJ",
        "outputId": "112b1464-6111-47ac-d21a-d5eaebe4ef69"
      },
      "execution_count": null,
      "outputs": [
        {
          "output_type": "stream",
          "name": "stdout",
          "text": [
            "Epoch 1/500\n",
            "169/169 [==============================] - 0s 3ms/step - loss: 0.4841 - val_loss: 0.6712\n",
            "Epoch 2/500\n",
            "169/169 [==============================] - 0s 3ms/step - loss: 0.3377 - val_loss: 0.6648\n",
            "Epoch 3/500\n",
            "169/169 [==============================] - 0s 3ms/step - loss: 0.2560 - val_loss: 0.6585\n",
            "Epoch 4/500\n",
            "169/169 [==============================] - 0s 3ms/step - loss: 0.2094 - val_loss: 0.6584\n",
            "Epoch 5/500\n",
            "169/169 [==============================] - 0s 3ms/step - loss: 0.1785 - val_loss: 0.7090\n",
            "Epoch 6/500\n",
            "169/169 [==============================] - 0s 3ms/step - loss: 0.1531 - val_loss: 0.6724\n",
            "Epoch 7/500\n",
            "169/169 [==============================] - 0s 3ms/step - loss: 0.1333 - val_loss: 0.6967\n",
            "Epoch 8/500\n",
            "169/169 [==============================] - 0s 3ms/step - loss: 0.1200 - val_loss: 0.6715\n",
            "Epoch 9/500\n",
            "169/169 [==============================] - 0s 3ms/step - loss: 0.1127 - val_loss: 0.6606\n",
            "Epoch 10/500\n",
            "169/169 [==============================] - 0s 3ms/step - loss: 0.1008 - val_loss: 0.6631\n",
            "Epoch 11/500\n",
            "169/169 [==============================] - 0s 3ms/step - loss: 0.0965 - val_loss: 0.6743\n",
            "Epoch 12/500\n",
            "169/169 [==============================] - 0s 3ms/step - loss: 0.0941 - val_loss: 0.6777\n",
            "Epoch 13/500\n",
            "169/169 [==============================] - 0s 3ms/step - loss: 0.0894 - val_loss: 0.6504\n",
            "Epoch 14/500\n",
            "169/169 [==============================] - 0s 3ms/step - loss: 0.0816 - val_loss: 0.6519\n",
            "Epoch 15/500\n",
            "169/169 [==============================] - 0s 3ms/step - loss: 0.0800 - val_loss: 0.6669\n",
            "Epoch 16/500\n",
            "169/169 [==============================] - 0s 3ms/step - loss: 0.0801 - val_loss: 0.6822\n",
            "Epoch 17/500\n",
            "169/169 [==============================] - 0s 3ms/step - loss: 0.0771 - val_loss: 0.6543\n",
            "Epoch 18/500\n",
            "169/169 [==============================] - 0s 3ms/step - loss: 0.0772 - val_loss: 0.6577\n",
            "Epoch 19/500\n",
            "169/169 [==============================] - 0s 3ms/step - loss: 0.0744 - val_loss: 0.6461\n",
            "Epoch 20/500\n",
            "169/169 [==============================] - 0s 3ms/step - loss: 0.0702 - val_loss: 0.6702\n",
            "Epoch 21/500\n",
            "169/169 [==============================] - 0s 3ms/step - loss: 0.0688 - val_loss: 0.6518\n",
            "Epoch 22/500\n",
            "169/169 [==============================] - 0s 3ms/step - loss: 0.0666 - val_loss: 0.6538\n",
            "Epoch 23/500\n",
            "169/169 [==============================] - 0s 3ms/step - loss: 0.0679 - val_loss: 0.6593\n",
            "Epoch 24/500\n",
            "169/169 [==============================] - 0s 3ms/step - loss: 0.0642 - val_loss: 0.6611\n",
            "Epoch 25/500\n",
            "169/169 [==============================] - 0s 3ms/step - loss: 0.0666 - val_loss: 0.6435\n",
            "Epoch 26/500\n",
            "169/169 [==============================] - 0s 3ms/step - loss: 0.0649 - val_loss: 0.6466\n",
            "Epoch 27/500\n",
            "169/169 [==============================] - 0s 3ms/step - loss: 0.0643 - val_loss: 0.6677\n",
            "Epoch 28/500\n",
            "169/169 [==============================] - 0s 3ms/step - loss: 0.0637 - val_loss: 0.6596\n",
            "Epoch 29/500\n",
            "169/169 [==============================] - 0s 3ms/step - loss: 0.0642 - val_loss: 0.6433\n",
            "Epoch 30/500\n",
            "169/169 [==============================] - 0s 3ms/step - loss: 0.0624 - val_loss: 0.6409\n",
            "Epoch 31/500\n",
            "169/169 [==============================] - 0s 3ms/step - loss: 0.0602 - val_loss: 0.6462\n",
            "Epoch 32/500\n",
            "169/169 [==============================] - 0s 3ms/step - loss: 0.0602 - val_loss: 0.6396\n",
            "Epoch 33/500\n",
            "169/169 [==============================] - 0s 3ms/step - loss: 0.0589 - val_loss: 0.6536\n",
            "Epoch 34/500\n",
            "169/169 [==============================] - 0s 3ms/step - loss: 0.0573 - val_loss: 0.6537\n",
            "Epoch 35/500\n",
            "169/169 [==============================] - 0s 3ms/step - loss: 0.0592 - val_loss: 0.6530\n",
            "Epoch 36/500\n",
            "169/169 [==============================] - 0s 3ms/step - loss: 0.0592 - val_loss: 0.6468\n",
            "Epoch 37/500\n",
            "169/169 [==============================] - 0s 3ms/step - loss: 0.0559 - val_loss: 0.6483\n",
            "Epoch 38/500\n",
            "169/169 [==============================] - 0s 3ms/step - loss: 0.0573 - val_loss: 0.6468\n",
            "Epoch 39/500\n",
            "169/169 [==============================] - 0s 3ms/step - loss: 0.0568 - val_loss: 0.6637\n",
            "Epoch 40/500\n",
            "169/169 [==============================] - 0s 3ms/step - loss: 0.0560 - val_loss: 0.6560\n",
            "Epoch 41/500\n",
            "169/169 [==============================] - 0s 3ms/step - loss: 0.0555 - val_loss: 0.6449\n",
            "Epoch 42/500\n",
            "169/169 [==============================] - 0s 3ms/step - loss: 0.0560 - val_loss: 0.6537\n",
            "Epoch 43/500\n",
            "169/169 [==============================] - 0s 3ms/step - loss: 0.0545 - val_loss: 0.6515\n",
            "Epoch 44/500\n",
            "169/169 [==============================] - 0s 3ms/step - loss: 0.0557 - val_loss: 0.6622\n",
            "Epoch 45/500\n",
            "169/169 [==============================] - 0s 3ms/step - loss: 0.0531 - val_loss: 0.6571\n",
            "Epoch 46/500\n",
            "169/169 [==============================] - 0s 3ms/step - loss: 0.0536 - val_loss: 0.6653\n",
            "Epoch 47/500\n",
            "169/169 [==============================] - 0s 3ms/step - loss: 0.0523 - val_loss: 0.6544\n",
            "Epoch 48/500\n",
            "169/169 [==============================] - 0s 3ms/step - loss: 0.0523 - val_loss: 0.6362\n",
            "Epoch 49/500\n",
            "169/169 [==============================] - 0s 3ms/step - loss: 0.0510 - val_loss: 0.6669\n",
            "Epoch 50/500\n",
            "169/169 [==============================] - 0s 3ms/step - loss: 0.0528 - val_loss: 0.6694\n",
            "Epoch 51/500\n",
            "169/169 [==============================] - 0s 3ms/step - loss: 0.0514 - val_loss: 0.6419\n",
            "Epoch 52/500\n",
            "169/169 [==============================] - 0s 3ms/step - loss: 0.0510 - val_loss: 0.6596\n",
            "Epoch 53/500\n",
            "169/169 [==============================] - 0s 3ms/step - loss: 0.0513 - val_loss: 0.6548\n",
            "Epoch 54/500\n",
            "169/169 [==============================] - 0s 3ms/step - loss: 0.0510 - val_loss: 0.6616\n",
            "Epoch 55/500\n",
            "169/169 [==============================] - 0s 3ms/step - loss: 0.0504 - val_loss: 0.6589\n",
            "Epoch 56/500\n",
            "169/169 [==============================] - 0s 3ms/step - loss: 0.0482 - val_loss: 0.6599\n",
            "Epoch 57/500\n",
            "169/169 [==============================] - 0s 3ms/step - loss: 0.0470 - val_loss: 0.6479\n",
            "Epoch 58/500\n",
            "169/169 [==============================] - 0s 3ms/step - loss: 0.0487 - val_loss: 0.6500\n",
            "Epoch 59/500\n",
            "169/169 [==============================] - 0s 3ms/step - loss: 0.0488 - val_loss: 0.6395\n",
            "Epoch 60/500\n",
            "169/169 [==============================] - 0s 3ms/step - loss: 0.0467 - val_loss: 0.6432\n",
            "Epoch 61/500\n",
            "169/169 [==============================] - 0s 3ms/step - loss: 0.0463 - val_loss: 0.6393\n",
            "Epoch 62/500\n",
            "169/169 [==============================] - 0s 3ms/step - loss: 0.0472 - val_loss: 0.6536\n",
            "Epoch 63/500\n",
            "169/169 [==============================] - 0s 3ms/step - loss: 0.0472 - val_loss: 0.6495\n",
            "Epoch 64/500\n",
            "169/169 [==============================] - 0s 3ms/step - loss: 0.0466 - val_loss: 0.6703\n",
            "Epoch 65/500\n",
            "169/169 [==============================] - 0s 3ms/step - loss: 0.0484 - val_loss: 0.6414\n",
            "Epoch 66/500\n",
            "169/169 [==============================] - 0s 3ms/step - loss: 0.0472 - val_loss: 0.6546\n",
            "Epoch 67/500\n",
            "169/169 [==============================] - 0s 3ms/step - loss: 0.0481 - val_loss: 0.6527\n",
            "Epoch 68/500\n",
            "169/169 [==============================] - 0s 3ms/step - loss: 0.0470 - val_loss: 0.6367\n",
            "Epoch 69/500\n",
            "169/169 [==============================] - 0s 3ms/step - loss: 0.0460 - val_loss: 0.6542\n",
            "Epoch 70/500\n",
            "169/169 [==============================] - 0s 3ms/step - loss: 0.0446 - val_loss: 0.6521\n",
            "Epoch 71/500\n",
            "169/169 [==============================] - 0s 3ms/step - loss: 0.0466 - val_loss: 0.6415\n",
            "Epoch 72/500\n",
            "169/169 [==============================] - 0s 3ms/step - loss: 0.0465 - val_loss: 0.6462\n",
            "Epoch 73/500\n",
            "169/169 [==============================] - 0s 3ms/step - loss: 0.0452 - val_loss: 0.6708\n",
            "Epoch 73: early stopping\n"
          ]
        },
        {
          "output_type": "display_data",
          "data": {
            "text/plain": [
              "<IPython.core.display.Javascript object>"
            ],
            "application/javascript": [
              "\n",
              "    async function download(id, filename, size) {\n",
              "      if (!google.colab.kernel.accessAllowed) {\n",
              "        return;\n",
              "      }\n",
              "      const div = document.createElement('div');\n",
              "      const label = document.createElement('label');\n",
              "      label.textContent = `Downloading \"${filename}\": `;\n",
              "      div.appendChild(label);\n",
              "      const progress = document.createElement('progress');\n",
              "      progress.max = size;\n",
              "      div.appendChild(progress);\n",
              "      document.body.appendChild(div);\n",
              "\n",
              "      const buffers = [];\n",
              "      let downloaded = 0;\n",
              "\n",
              "      const channel = await google.colab.kernel.comms.open(id);\n",
              "      // Send a message to notify the kernel that we're ready.\n",
              "      channel.send({})\n",
              "\n",
              "      for await (const message of channel.messages) {\n",
              "        // Send a message to notify the kernel that we're ready.\n",
              "        channel.send({})\n",
              "        if (message.buffers) {\n",
              "          for (const buffer of message.buffers) {\n",
              "            buffers.push(buffer);\n",
              "            downloaded += buffer.byteLength;\n",
              "            progress.value = downloaded;\n",
              "          }\n",
              "        }\n",
              "      }\n",
              "      const blob = new Blob(buffers, {type: 'application/binary'});\n",
              "      const a = document.createElement('a');\n",
              "      a.href = window.URL.createObjectURL(blob);\n",
              "      a.download = filename;\n",
              "      div.appendChild(a);\n",
              "      a.click();\n",
              "      div.remove();\n",
              "    }\n",
              "  "
            ]
          },
          "metadata": {}
        },
        {
          "output_type": "display_data",
          "data": {
            "text/plain": [
              "<IPython.core.display.Javascript object>"
            ],
            "application/javascript": [
              "download(\"download_84f546b4-054f-4dc6-b4da-228dee876241\", \"model33.h5\", 4392656)"
            ]
          },
          "metadata": {}
        }
      ]
    },
    {
      "cell_type": "code",
      "source": [
        "#finger 4\n",
        "\n",
        "#model.fit with early stopping\n",
        "model.fit(R3_train, y_train_3[:,3], epochs = 500, batch_size = 32, verbose = 1, validation_split = 0.1, callbacks = [early_stop])\n",
        "model.save('model34.h5')\n",
        "files.download('model34.h5')\n",
        "#predictions\n",
        "test_pred34 = model.predict(R3_test)"
      ],
      "metadata": {
        "colab": {
          "base_uri": "https://localhost:8080/",
          "height": 937
        },
        "id": "Ml1jVDQl56gc",
        "outputId": "5ad4aff9-03c7-487b-c6c4-89e650c0951b"
      },
      "execution_count": null,
      "outputs": [
        {
          "output_type": "stream",
          "name": "stdout",
          "text": [
            "Epoch 1/500\n",
            "169/169 [==============================] - 0s 3ms/step - loss: 0.5283 - val_loss: 0.5078\n",
            "Epoch 2/500\n",
            "169/169 [==============================] - 0s 3ms/step - loss: 0.3131 - val_loss: 0.5552\n",
            "Epoch 3/500\n",
            "169/169 [==============================] - 0s 3ms/step - loss: 0.2329 - val_loss: 0.5327\n",
            "Epoch 4/500\n",
            "169/169 [==============================] - 0s 3ms/step - loss: 0.1779 - val_loss: 0.5455\n",
            "Epoch 5/500\n",
            "169/169 [==============================] - 0s 3ms/step - loss: 0.1482 - val_loss: 0.5137\n",
            "Epoch 6/500\n",
            "169/169 [==============================] - 0s 3ms/step - loss: 0.1310 - val_loss: 0.5625\n",
            "Epoch 7/500\n",
            "169/169 [==============================] - 0s 3ms/step - loss: 0.1147 - val_loss: 0.5750\n",
            "Epoch 8/500\n",
            "169/169 [==============================] - 0s 3ms/step - loss: 0.1047 - val_loss: 0.5384\n",
            "Epoch 9/500\n",
            "169/169 [==============================] - 0s 3ms/step - loss: 0.0970 - val_loss: 0.5600\n",
            "Epoch 10/500\n",
            "169/169 [==============================] - 0s 3ms/step - loss: 0.0897 - val_loss: 0.5634\n",
            "Epoch 11/500\n",
            "169/169 [==============================] - 0s 3ms/step - loss: 0.0842 - val_loss: 0.5589\n",
            "Epoch 12/500\n",
            "169/169 [==============================] - 0s 3ms/step - loss: 0.0807 - val_loss: 0.5460\n",
            "Epoch 13/500\n",
            "169/169 [==============================] - 0s 3ms/step - loss: 0.0751 - val_loss: 0.5405\n",
            "Epoch 14/500\n",
            "169/169 [==============================] - 0s 3ms/step - loss: 0.0726 - val_loss: 0.5411\n",
            "Epoch 15/500\n",
            "169/169 [==============================] - 0s 3ms/step - loss: 0.0736 - val_loss: 0.5491\n",
            "Epoch 16/500\n",
            "169/169 [==============================] - 0s 3ms/step - loss: 0.0700 - val_loss: 0.5411\n",
            "Epoch 17/500\n",
            "169/169 [==============================] - 0s 3ms/step - loss: 0.0657 - val_loss: 0.5418\n",
            "Epoch 18/500\n",
            "169/169 [==============================] - 0s 3ms/step - loss: 0.0659 - val_loss: 0.5501\n",
            "Epoch 19/500\n",
            "169/169 [==============================] - 0s 3ms/step - loss: 0.0652 - val_loss: 0.5436\n",
            "Epoch 20/500\n",
            "169/169 [==============================] - 0s 3ms/step - loss: 0.0628 - val_loss: 0.5282\n",
            "Epoch 21/500\n",
            "169/169 [==============================] - 0s 3ms/step - loss: 0.0625 - val_loss: 0.5446\n",
            "Epoch 22/500\n",
            "169/169 [==============================] - 0s 3ms/step - loss: 0.0599 - val_loss: 0.5472\n",
            "Epoch 23/500\n",
            "169/169 [==============================] - 0s 3ms/step - loss: 0.0586 - val_loss: 0.5522\n",
            "Epoch 24/500\n",
            "169/169 [==============================] - 0s 3ms/step - loss: 0.0597 - val_loss: 0.5348\n",
            "Epoch 25/500\n",
            "169/169 [==============================] - 0s 3ms/step - loss: 0.0588 - val_loss: 0.5343\n",
            "Epoch 26/500\n",
            "169/169 [==============================] - 0s 3ms/step - loss: 0.0597 - val_loss: 0.5347\n",
            "Epoch 26: early stopping\n"
          ]
        },
        {
          "output_type": "display_data",
          "data": {
            "text/plain": [
              "<IPython.core.display.Javascript object>"
            ],
            "application/javascript": [
              "\n",
              "    async function download(id, filename, size) {\n",
              "      if (!google.colab.kernel.accessAllowed) {\n",
              "        return;\n",
              "      }\n",
              "      const div = document.createElement('div');\n",
              "      const label = document.createElement('label');\n",
              "      label.textContent = `Downloading \"${filename}\": `;\n",
              "      div.appendChild(label);\n",
              "      const progress = document.createElement('progress');\n",
              "      progress.max = size;\n",
              "      div.appendChild(progress);\n",
              "      document.body.appendChild(div);\n",
              "\n",
              "      const buffers = [];\n",
              "      let downloaded = 0;\n",
              "\n",
              "      const channel = await google.colab.kernel.comms.open(id);\n",
              "      // Send a message to notify the kernel that we're ready.\n",
              "      channel.send({})\n",
              "\n",
              "      for await (const message of channel.messages) {\n",
              "        // Send a message to notify the kernel that we're ready.\n",
              "        channel.send({})\n",
              "        if (message.buffers) {\n",
              "          for (const buffer of message.buffers) {\n",
              "            buffers.push(buffer);\n",
              "            downloaded += buffer.byteLength;\n",
              "            progress.value = downloaded;\n",
              "          }\n",
              "        }\n",
              "      }\n",
              "      const blob = new Blob(buffers, {type: 'application/binary'});\n",
              "      const a = document.createElement('a');\n",
              "      a.href = window.URL.createObjectURL(blob);\n",
              "      a.download = filename;\n",
              "      div.appendChild(a);\n",
              "      a.click();\n",
              "      div.remove();\n",
              "    }\n",
              "  "
            ]
          },
          "metadata": {}
        },
        {
          "output_type": "display_data",
          "data": {
            "text/plain": [
              "<IPython.core.display.Javascript object>"
            ],
            "application/javascript": [
              "download(\"download_eff2d48d-efea-4c84-9256-66a54a730ac8\", \"model34.h5\", 4392656)"
            ]
          },
          "metadata": {}
        }
      ]
    },
    {
      "cell_type": "code",
      "source": [
        "#finger 5\n",
        "\n",
        "#model.fit with early stopping\n",
        "model.fit(R3_train, y_train_3[:,4], epochs = 500, batch_size = 32, verbose = 1, validation_split = 0.1, callbacks = [early_stop])\n",
        "model.save('model35.h5')\n",
        "files.download('model35.h5')\n",
        "#predictions\n",
        "test_pred35 = model.predict(R3_test)"
      ],
      "metadata": {
        "colab": {
          "base_uri": "https://localhost:8080/",
          "height": 1000
        },
        "id": "P5dtpzf85_xL",
        "outputId": "3f08f0b2-8a23-4578-cc5d-9bfacd572d52"
      },
      "execution_count": null,
      "outputs": [
        {
          "output_type": "stream",
          "name": "stdout",
          "text": [
            "Epoch 1/500\n",
            "169/169 [==============================] - 0s 3ms/step - loss: 0.3925 - val_loss: 0.4085\n",
            "Epoch 2/500\n",
            "169/169 [==============================] - 0s 3ms/step - loss: 0.2441 - val_loss: 0.4815\n",
            "Epoch 3/500\n",
            "169/169 [==============================] - 0s 3ms/step - loss: 0.1720 - val_loss: 0.3741\n",
            "Epoch 4/500\n",
            "169/169 [==============================] - 0s 3ms/step - loss: 0.1305 - val_loss: 0.4136\n",
            "Epoch 5/500\n",
            "169/169 [==============================] - 0s 3ms/step - loss: 0.1143 - val_loss: 0.4721\n",
            "Epoch 6/500\n",
            "169/169 [==============================] - 0s 3ms/step - loss: 0.0946 - val_loss: 0.3751\n",
            "Epoch 7/500\n",
            "169/169 [==============================] - 0s 3ms/step - loss: 0.0912 - val_loss: 0.4347\n",
            "Epoch 8/500\n",
            "169/169 [==============================] - 0s 3ms/step - loss: 0.0830 - val_loss: 0.4462\n",
            "Epoch 9/500\n",
            "169/169 [==============================] - 0s 3ms/step - loss: 0.0699 - val_loss: 0.4685\n",
            "Epoch 10/500\n",
            "169/169 [==============================] - 0s 3ms/step - loss: 0.0676 - val_loss: 0.4373\n",
            "Epoch 11/500\n",
            "169/169 [==============================] - 0s 3ms/step - loss: 0.0646 - val_loss: 0.4539\n",
            "Epoch 12/500\n",
            "169/169 [==============================] - 0s 3ms/step - loss: 0.0580 - val_loss: 0.4718\n",
            "Epoch 13/500\n",
            "169/169 [==============================] - 0s 3ms/step - loss: 0.0590 - val_loss: 0.4825\n",
            "Epoch 14/500\n",
            "169/169 [==============================] - 0s 3ms/step - loss: 0.0580 - val_loss: 0.4917\n",
            "Epoch 15/500\n",
            "169/169 [==============================] - 0s 3ms/step - loss: 0.0543 - val_loss: 0.4726\n",
            "Epoch 16/500\n",
            "169/169 [==============================] - 0s 3ms/step - loss: 0.0517 - val_loss: 0.4664\n",
            "Epoch 17/500\n",
            "169/169 [==============================] - 0s 3ms/step - loss: 0.0504 - val_loss: 0.4570\n",
            "Epoch 18/500\n",
            "169/169 [==============================] - 0s 3ms/step - loss: 0.0482 - val_loss: 0.4787\n",
            "Epoch 19/500\n",
            "169/169 [==============================] - 0s 3ms/step - loss: 0.0492 - val_loss: 0.4682\n",
            "Epoch 20/500\n",
            "169/169 [==============================] - 0s 3ms/step - loss: 0.0486 - val_loss: 0.5136\n",
            "Epoch 21/500\n",
            "169/169 [==============================] - 0s 3ms/step - loss: 0.0500 - val_loss: 0.4423\n",
            "Epoch 22/500\n",
            "169/169 [==============================] - 0s 3ms/step - loss: 0.0474 - val_loss: 0.4727\n",
            "Epoch 23/500\n",
            "169/169 [==============================] - 0s 3ms/step - loss: 0.0459 - val_loss: 0.4647\n",
            "Epoch 24/500\n",
            "169/169 [==============================] - 0s 3ms/step - loss: 0.0453 - val_loss: 0.5054\n",
            "Epoch 25/500\n",
            "169/169 [==============================] - 0s 3ms/step - loss: 0.0416 - val_loss: 0.4764\n",
            "Epoch 26/500\n",
            "169/169 [==============================] - 0s 3ms/step - loss: 0.0424 - val_loss: 0.5037\n",
            "Epoch 27/500\n",
            "169/169 [==============================] - 0s 3ms/step - loss: 0.0430 - val_loss: 0.4690\n",
            "Epoch 28/500\n",
            "169/169 [==============================] - 0s 3ms/step - loss: 0.0418 - val_loss: 0.4632\n",
            "Epoch 28: early stopping\n"
          ]
        },
        {
          "output_type": "display_data",
          "data": {
            "text/plain": [
              "<IPython.core.display.Javascript object>"
            ],
            "application/javascript": [
              "\n",
              "    async function download(id, filename, size) {\n",
              "      if (!google.colab.kernel.accessAllowed) {\n",
              "        return;\n",
              "      }\n",
              "      const div = document.createElement('div');\n",
              "      const label = document.createElement('label');\n",
              "      label.textContent = `Downloading \"${filename}\": `;\n",
              "      div.appendChild(label);\n",
              "      const progress = document.createElement('progress');\n",
              "      progress.max = size;\n",
              "      div.appendChild(progress);\n",
              "      document.body.appendChild(div);\n",
              "\n",
              "      const buffers = [];\n",
              "      let downloaded = 0;\n",
              "\n",
              "      const channel = await google.colab.kernel.comms.open(id);\n",
              "      // Send a message to notify the kernel that we're ready.\n",
              "      channel.send({})\n",
              "\n",
              "      for await (const message of channel.messages) {\n",
              "        // Send a message to notify the kernel that we're ready.\n",
              "        channel.send({})\n",
              "        if (message.buffers) {\n",
              "          for (const buffer of message.buffers) {\n",
              "            buffers.push(buffer);\n",
              "            downloaded += buffer.byteLength;\n",
              "            progress.value = downloaded;\n",
              "          }\n",
              "        }\n",
              "      }\n",
              "      const blob = new Blob(buffers, {type: 'application/binary'});\n",
              "      const a = document.createElement('a');\n",
              "      a.href = window.URL.createObjectURL(blob);\n",
              "      a.download = filename;\n",
              "      div.appendChild(a);\n",
              "      a.click();\n",
              "      div.remove();\n",
              "    }\n",
              "  "
            ]
          },
          "metadata": {}
        },
        {
          "output_type": "display_data",
          "data": {
            "text/plain": [
              "<IPython.core.display.Javascript object>"
            ],
            "application/javascript": [
              "download(\"download_cfcfcd2f-6a1b-430d-a403-a0509f6a83a0\", \"model35.h5\", 4392656)"
            ]
          },
          "metadata": {}
        }
      ]
    },
    {
      "cell_type": "code",
      "source": [
        "#test_pred31 = test_pred31.reshape((-1,))\n",
        "#test_pred32 = test_pred32.reshape((-1,))\n",
        "#test_pred33 = test_pred33.reshape((-1,))\n",
        "#test_pred34 = test_pred34.reshape((-1,))\n",
        "#test_pred35 = test_pred35.reshape((-1,))\n",
        "\n",
        "test_pred3 = np.vstack((test_pred31, test_pred32, test_pred33, test_pred34, test_pred35)).T\n",
        "\n",
        "#interpolation\n",
        "y3 = np.empty_like(test_pred3[:,0]) \n",
        "cs3 = [] \n",
        "for i in range(test_pred3.shape[1]):\n",
        "  x3 = np.arange(test_pred3.shape[0])\n",
        "  y3 = test_pred3[:,i]\n",
        "  cs3.append(CubicSpline(x3, y3, bc_type = 'clamped'))\n",
        "\n",
        "interp_pred3_nn = np.vstack((cs3[0](xs),cs3[1](xs), cs3[2](xs), cs3[3](xs), cs3[4](xs))).T"
      ],
      "metadata": {
        "id": "m1O2Piii6JRT"
      },
      "execution_count": null,
      "outputs": []
    },
    {
      "cell_type": "markdown",
      "source": [
        "# Stacking all predictions "
      ],
      "metadata": {
        "id": "o-P6Ozfj6L5V"
      }
    },
    {
      "cell_type": "code",
      "source": [
        "#-------STACKING ALL PREDICTIONS-----------\n",
        "predictions = np.zeros((3,1), dtype=object)\n",
        "predictions[0,0] = interp_pred1_nn\n",
        "predictions[1,0] = interp_pred2_nn\n",
        "predictions[2,0] = interp_pred3_nn\n",
        "\n",
        "savemat('predictions.mat', {'predicted_dg':predictions})"
      ],
      "metadata": {
        "id": "OAv0ZPFj6Q46"
      },
      "execution_count": null,
      "outputs": []
    },
    {
      "cell_type": "code",
      "source": [
        "files.download('predictions.mat')"
      ],
      "metadata": {
        "colab": {
          "base_uri": "https://localhost:8080/",
          "height": 17
        },
        "id": "v_E2z_x5Cs85",
        "outputId": "115e7cd7-b151-4a3a-99d5-175cc05643f4"
      },
      "execution_count": null,
      "outputs": [
        {
          "output_type": "display_data",
          "data": {
            "text/plain": [
              "<IPython.core.display.Javascript object>"
            ],
            "application/javascript": [
              "\n",
              "    async function download(id, filename, size) {\n",
              "      if (!google.colab.kernel.accessAllowed) {\n",
              "        return;\n",
              "      }\n",
              "      const div = document.createElement('div');\n",
              "      const label = document.createElement('label');\n",
              "      label.textContent = `Downloading \"${filename}\": `;\n",
              "      div.appendChild(label);\n",
              "      const progress = document.createElement('progress');\n",
              "      progress.max = size;\n",
              "      div.appendChild(progress);\n",
              "      document.body.appendChild(div);\n",
              "\n",
              "      const buffers = [];\n",
              "      let downloaded = 0;\n",
              "\n",
              "      const channel = await google.colab.kernel.comms.open(id);\n",
              "      // Send a message to notify the kernel that we're ready.\n",
              "      channel.send({})\n",
              "\n",
              "      for await (const message of channel.messages) {\n",
              "        // Send a message to notify the kernel that we're ready.\n",
              "        channel.send({})\n",
              "        if (message.buffers) {\n",
              "          for (const buffer of message.buffers) {\n",
              "            buffers.push(buffer);\n",
              "            downloaded += buffer.byteLength;\n",
              "            progress.value = downloaded;\n",
              "          }\n",
              "        }\n",
              "      }\n",
              "      const blob = new Blob(buffers, {type: 'application/binary'});\n",
              "      const a = document.createElement('a');\n",
              "      a.href = window.URL.createObjectURL(blob);\n",
              "      a.download = filename;\n",
              "      div.appendChild(a);\n",
              "      a.click();\n",
              "      div.remove();\n",
              "    }\n",
              "  "
            ]
          },
          "metadata": {}
        },
        {
          "output_type": "display_data",
          "data": {
            "text/plain": [
              "<IPython.core.display.Javascript object>"
            ],
            "application/javascript": [
              "download(\"download_ab4c2db1-8e26-4d49-9aaa-2adee7140686\", \"predictions.mat\", 17700360)"
            ]
          },
          "metadata": {}
        }
      ]
    }
  ]
}